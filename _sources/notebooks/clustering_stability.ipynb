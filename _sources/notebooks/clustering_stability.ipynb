{
 "cells": [
  {
   "cell_type": "markdown",
   "id": "3e9c2151",
   "metadata": {},
   "source": [
    "# Clustering Stability\n",
    "\n",
    "In spatial transcriptomics, cells are typically clustered into cell types based on their RNA expression. If the segmentation of a spatial transcriptomics dataset went well, we would assume that this clustering is somewhat stable, even if we only cluster on parts of the data. The `cs` (clustering stability) module includes some functions to apply clustering and assess its robustness."
   ]
  },
  {
   "cell_type": "code",
   "execution_count": 1,
   "id": "6e8dbb9c",
   "metadata": {},
   "outputs": [
    {
     "name": "stderr",
     "output_type": "stream",
     "text": [
      "/home/meyerben/meyerben/notebooks/spatial_transcriptomics/SegTraQ/.venv/lib/python3.10/site-packages/dask/dataframe/__init__.py:31: FutureWarning: The legacy Dask DataFrame implementation is deprecated and will be removed in a future version. Set the configuration option `dataframe.query-planning` to `True` or None to enable the new Dask Dataframe implementation and silence this warning.\n",
      "  warnings.warn(\n",
      "/home/meyerben/meyerben/notebooks/spatial_transcriptomics/SegTraQ/.venv/lib/python3.10/site-packages/xarray_schema/__init__.py:1: UserWarning: pkg_resources is deprecated as an API. See https://setuptools.pypa.io/en/latest/pkg_resources.html. The pkg_resources package is slated for removal as early as 2025-11-30. Refrain from using this package or pin to Setuptools<81.\n",
      "  from pkg_resources import DistributionNotFound, get_distribution\n",
      "version mismatch: detected: RasterFormatV02, requested: FormatV04\n",
      "/home/meyerben/meyerben/notebooks/spatial_transcriptomics/SegTraQ/.venv/lib/python3.10/site-packages/zarr/creation.py:614: UserWarning: ignoring keyword argument 'read_only'\n",
      "  compressor, fill_value = _kwargs_compat(compressor, fill_value, kwargs)\n",
      "version mismatch: detected: RasterFormatV02, requested: FormatV04\n",
      "/home/meyerben/meyerben/notebooks/spatial_transcriptomics/SegTraQ/.venv/lib/python3.10/site-packages/zarr/creation.py:614: UserWarning: ignoring keyword argument 'read_only'\n",
      "  compressor, fill_value = _kwargs_compat(compressor, fill_value, kwargs)\n"
     ]
    }
   ],
   "source": [
    "%load_ext autoreload\n",
    "%autoreload 2\n",
    "\n",
    "import spatialdata as sd\n",
    "\n",
    "import segtraq as st\n",
    "\n",
    "# example datasets on which we can compare performance\n",
    "sdata_bidcell = sd.read_zarr(\"/g/huber/projects/CODEX/segtraq/data/seg_comparison/spatialData_2_C1_bidcell.zarr\")\n",
    "sdata_proseg = sd.read_zarr(\"/g/huber/projects/CODEX/segtraq/data/seg_comparison/spatialData_2_C1_proseg.zarr\")"
   ]
  },
  {
   "cell_type": "markdown",
   "id": "e811ec78",
   "metadata": {},
   "source": [
    "## Root Mean Square Deviation (RMSD)\n",
    "\n",
    "The root mean square deviation (RMSD) is a measure that looks at the compactness of clusters. To compute it, we first compute a PCA on the normalized and log-transformed counts, which gives us the first 50 principal components. We then run Leiden clustering on these. Finally, for each cluster, we compute the root mean square deviation of all points within the cluster from the cluster centroid. To ensure that we are not too dependent on the resolution parameter of Leiden clustering, we run it with multiple resolutions (by default 0.6, 0.8, and 1.0) and report the lowest RMSD."
   ]
  },
  {
   "cell_type": "code",
   "execution_count": 2,
   "id": "6dcb8ba6",
   "metadata": {},
   "outputs": [
    {
     "name": "stderr",
     "output_type": "stream",
     "text": [
      "/home/meyerben/meyerben/notebooks/spatial_transcriptomics/SegTraQ/.venv/lib/python3.10/site-packages/tqdm/auto.py:21: TqdmWarning: IProgress not found. Please update jupyter and ipywidgets. See https://ipywidgets.readthedocs.io/en/stable/user_install.html\n",
      "  from .autonotebook import tqdm as notebook_tqdm\n"
     ]
    },
    {
     "data": {
      "text/plain": [
       "12.699893951416016"
      ]
     },
     "execution_count": 2,
     "metadata": {},
     "output_type": "execute_result"
    }
   ],
   "source": [
    "st.cs.compute_rmsd(sdata_bidcell)"
   ]
  },
  {
   "cell_type": "code",
   "execution_count": 3,
   "id": "5f9a9f69",
   "metadata": {},
   "outputs": [
    {
     "name": "stderr",
     "output_type": "stream",
     "text": [
      "/home/meyerben/meyerben/notebooks/spatial_transcriptomics/SegTraQ/.venv/lib/python3.10/site-packages/legacy_api_wrap/__init__.py:82: UserWarning: Some cells have zero counts\n",
      "  return fn(*args_all, **kw)\n"
     ]
    },
    {
     "data": {
      "text/plain": [
       "3.9636342525482178"
      ]
     },
     "execution_count": 3,
     "metadata": {},
     "output_type": "execute_result"
    }
   ],
   "source": [
    "st.cs.compute_rmsd(sdata_proseg)"
   ]
  },
  {
   "cell_type": "markdown",
   "id": "829e04bd",
   "metadata": {},
   "source": [
    "ProSeg had the lower RMSD, meaning that it's clusters are more tight."
   ]
  },
  {
   "cell_type": "markdown",
   "id": "d6ce6433",
   "metadata": {},
   "source": [
    "## Silhouette Score\n",
    "\n",
    "A slightly more elaborate metric is the silhouette score. It measures how similar an object is to its own cluster (cohesion) compared to other clusters (separation). Values range from −1 to +1, where a high value indicates that the object is well matched to its own cluster and poorly matched to neighboring clusters.\n",
    "\n",
    "As with the RMSD, we compute this for Leiden clustering at different resolutions and report the best one."
   ]
  },
  {
   "cell_type": "code",
   "execution_count": 4,
   "id": "449a82b3",
   "metadata": {},
   "outputs": [
    {
     "data": {
      "text/plain": [
       "0.10390220582485199"
      ]
     },
     "execution_count": 4,
     "metadata": {},
     "output_type": "execute_result"
    }
   ],
   "source": [
    "st.cs.compute_silhouette_score(sdata_bidcell)"
   ]
  },
  {
   "cell_type": "code",
   "execution_count": 5,
   "id": "ed5d2898",
   "metadata": {},
   "outputs": [
    {
     "data": {
      "text/plain": [
       "0.18913063406944275"
      ]
     },
     "execution_count": 5,
     "metadata": {},
     "output_type": "execute_result"
    }
   ],
   "source": [
    "st.cs.compute_silhouette_score(sdata_proseg)"
   ]
  },
  {
   "cell_type": "markdown",
   "id": "11872722",
   "metadata": {},
   "source": [
    "ProSeg has a slightly higher silhouette score than BidCell."
   ]
  },
  {
   "cell_type": "markdown",
   "id": "38cbd316",
   "metadata": {},
   "source": [
    "## Purity\n",
    "\n",
    "Another way to assess cluster stability is to cluster only on a subset of all genes. For example, if we randomly select 100 genes and then perform Leiden clustering on those, will our cells typically get assigned to the same cluster or to different ones?\n",
    "\n",
    "One way to assess this is by comparing the purity between two clusterings. For every cluster in clustering 1, we check how many other clusters it contains in clustering 2.\n",
    "\n",
    "A purity value of 1 means that the clusters are completely pure, whereas a value closer to 0 means that they are more mixed.\n",
    "\n",
    "We randomly select 100 genes, perform clustering on them, and do this five times, to obtain five different clusterings. Then we compare them using the purity score."
   ]
  },
  {
   "cell_type": "code",
   "execution_count": 6,
   "id": "07daf94d",
   "metadata": {},
   "outputs": [
    {
     "data": {
      "text/plain": [
       "0.3335519209998457"
      ]
     },
     "execution_count": 6,
     "metadata": {},
     "output_type": "execute_result"
    }
   ],
   "source": [
    "st.cs.compute_purity(sdata_bidcell)"
   ]
  },
  {
   "cell_type": "code",
   "execution_count": 7,
   "id": "0dbb3e3c",
   "metadata": {},
   "outputs": [
    {
     "name": "stderr",
     "output_type": "stream",
     "text": [
      "/home/meyerben/meyerben/notebooks/spatial_transcriptomics/SegTraQ/.venv/lib/python3.10/site-packages/scipy/sparse/_index.py:210: SparseEfficiencyWarning: Changing the sparsity structure of a csr_matrix is expensive. lil and dok are more efficient.\n",
      "  self._set_arrayXarray(i, j, x)\n",
      "/home/meyerben/meyerben/notebooks/spatial_transcriptomics/SegTraQ/.venv/lib/python3.10/site-packages/scipy/sparse/_index.py:210: SparseEfficiencyWarning: Changing the sparsity structure of a csr_matrix is expensive. lil and dok are more efficient.\n",
      "  self._set_arrayXarray(i, j, x)\n",
      "/home/meyerben/meyerben/notebooks/spatial_transcriptomics/SegTraQ/.venv/lib/python3.10/site-packages/scipy/sparse/_index.py:210: SparseEfficiencyWarning: Changing the sparsity structure of a csr_matrix is expensive. lil and dok are more efficient.\n",
      "  self._set_arrayXarray(i, j, x)\n",
      "/home/meyerben/meyerben/notebooks/spatial_transcriptomics/SegTraQ/.venv/lib/python3.10/site-packages/scipy/sparse/_index.py:210: SparseEfficiencyWarning: Changing the sparsity structure of a csr_matrix is expensive. lil and dok are more efficient.\n",
      "  self._set_arrayXarray(i, j, x)\n"
     ]
    },
    {
     "data": {
      "text/plain": [
       "0.6258423122969043"
      ]
     },
     "execution_count": 7,
     "metadata": {},
     "output_type": "execute_result"
    }
   ],
   "source": [
    "st.cs.compute_purity(sdata_proseg)"
   ]
  },
  {
   "cell_type": "markdown",
   "id": "81cf51e6",
   "metadata": {},
   "source": [
    "The purity is much higher for ProSeg than for BidCell, meaning that the clustering of ProSeg changes less when only looking at subsets of genes."
   ]
  },
  {
   "cell_type": "markdown",
   "id": "573b4049",
   "metadata": {},
   "source": [
    "## Adjusted Rand Index (ARI)\n",
    "\n",
    "The adjusted rand index (ARI) is another metric to determine the similarity of different clusterings (again, we create five clusterings based on random subsets of 100 genes each). Just like the purity, its values range from 0 (no similarity, not a robust clustering) to 1 (exactly the same clusters, high robustness)."
   ]
  },
  {
   "cell_type": "code",
   "execution_count": 8,
   "id": "45f74ced",
   "metadata": {},
   "outputs": [
    {
     "data": {
      "text/plain": [
       "0.1299466585442509"
      ]
     },
     "execution_count": 8,
     "metadata": {},
     "output_type": "execute_result"
    }
   ],
   "source": [
    "st.cs.compute_ari(sdata_bidcell)"
   ]
  },
  {
   "cell_type": "code",
   "execution_count": 9,
   "id": "543e4abc",
   "metadata": {},
   "outputs": [
    {
     "name": "stderr",
     "output_type": "stream",
     "text": [
      "/home/meyerben/meyerben/notebooks/spatial_transcriptomics/SegTraQ/.venv/lib/python3.10/site-packages/scipy/sparse/_index.py:210: SparseEfficiencyWarning: Changing the sparsity structure of a csr_matrix is expensive. lil and dok are more efficient.\n",
      "  self._set_arrayXarray(i, j, x)\n",
      "/home/meyerben/meyerben/notebooks/spatial_transcriptomics/SegTraQ/.venv/lib/python3.10/site-packages/scipy/sparse/_index.py:210: SparseEfficiencyWarning: Changing the sparsity structure of a csr_matrix is expensive. lil and dok are more efficient.\n",
      "  self._set_arrayXarray(i, j, x)\n",
      "/home/meyerben/meyerben/notebooks/spatial_transcriptomics/SegTraQ/.venv/lib/python3.10/site-packages/scipy/sparse/_index.py:210: SparseEfficiencyWarning: Changing the sparsity structure of a csr_matrix is expensive. lil and dok are more efficient.\n",
      "  self._set_arrayXarray(i, j, x)\n",
      "/home/meyerben/meyerben/notebooks/spatial_transcriptomics/SegTraQ/.venv/lib/python3.10/site-packages/scipy/sparse/_index.py:210: SparseEfficiencyWarning: Changing the sparsity structure of a csr_matrix is expensive. lil and dok are more efficient.\n",
      "  self._set_arrayXarray(i, j, x)\n"
     ]
    },
    {
     "data": {
      "text/plain": [
       "0.41885728397994343"
      ]
     },
     "execution_count": 9,
     "metadata": {},
     "output_type": "execute_result"
    }
   ],
   "source": [
    "st.cs.compute_ari(sdata_proseg)"
   ]
  },
  {
   "cell_type": "markdown",
   "id": "b43f49b6",
   "metadata": {},
   "source": [
    "The ARI is much higher for ProSeg, meaning that it's clusters are more robust than the ones obtained from BidCell."
   ]
  }
 ],
 "metadata": {
  "kernelspec": {
   "display_name": ".venv",
   "language": "python",
   "name": "python3"
  },
  "language_info": {
   "codemirror_mode": {
    "name": "ipython",
    "version": 3
   },
   "file_extension": ".py",
   "mimetype": "text/x-python",
   "name": "python",
   "nbconvert_exporter": "python",
   "pygments_lexer": "ipython3",
   "version": "3.10.8"
  }
 },
 "nbformat": 4,
 "nbformat_minor": 5
}
