{
 "cells": [
  {
   "cell_type": "code",
   "execution_count": 14,
   "id": "2203aa8a-77b5-4d1e-b368-5f0e3cddbfb0",
   "metadata": {
    "tags": []
   },
   "outputs": [
    {
     "name": "stdout",
     "output_type": "stream",
     "text": [
      "The autoreload extension is already loaded. To reload it, use:\n",
      "  %reload_ext autoreload\n"
     ]
    }
   ],
   "source": [
    "%load_ext autoreload\n",
    "%autoreload 2\n",
    "\n",
    "import pandas as pd\n",
    "import tifffile\n",
    "\n",
    "import segtraq as st"
   ]
  },
  {
   "cell_type": "markdown",
   "id": "9f954887-ea4d-4900-9750-31de27064c0d",
   "metadata": {},
   "source": [
    "# Reading files into spatialdata\n",
    "\n",
    "Before assessing the quality of a segmentation, we first need to get the data into `spatialdata` format. The following sections show how this can be achieved from a variety of different segmentation methods.\n",
    "\n",
    "We always require a transcript dataframe, and any additional data can come as shapes, labels, or images."
   ]
  },
  {
   "cell_type": "code",
   "execution_count": 3,
   "id": "19b87ea8-e26d-46e5-a2ed-f683897c75b6",
   "metadata": {
    "tags": []
   },
   "outputs": [
    {
     "data": {
      "text/html": [
       "<div>\n",
       "<style scoped>\n",
       "    .dataframe tbody tr th:only-of-type {\n",
       "        vertical-align: middle;\n",
       "    }\n",
       "\n",
       "    .dataframe tbody tr th {\n",
       "        vertical-align: top;\n",
       "    }\n",
       "\n",
       "    .dataframe thead th {\n",
       "        text-align: right;\n",
       "    }\n",
       "</style>\n",
       "<table border=\"1\" class=\"dataframe\">\n",
       "  <thead>\n",
       "    <tr style=\"text-align: right;\">\n",
       "      <th></th>\n",
       "      <th>transcript_id</th>\n",
       "      <th>cell_id</th>\n",
       "      <th>overlaps_nucleus</th>\n",
       "      <th>feature_name</th>\n",
       "      <th>x_location</th>\n",
       "      <th>y_location</th>\n",
       "      <th>z_location</th>\n",
       "      <th>qv</th>\n",
       "      <th>fov_name</th>\n",
       "      <th>nucleus_distance</th>\n",
       "      <th>codeword_index</th>\n",
       "      <th>codeword_category</th>\n",
       "      <th>is_gene</th>\n",
       "    </tr>\n",
       "  </thead>\n",
       "  <tbody>\n",
       "    <tr>\n",
       "      <th>0</th>\n",
       "      <td>282643208155248</td>\n",
       "      <td>bfnbkogm-1</td>\n",
       "      <td>0</td>\n",
       "      <td>AAMP</td>\n",
       "      <td>57.153320</td>\n",
       "      <td>163.29980</td>\n",
       "      <td>20.156250</td>\n",
       "      <td>35.75</td>\n",
       "      <td>V12</td>\n",
       "      <td>0.15625</td>\n",
       "      <td>3277</td>\n",
       "      <td>predesigned_gene</td>\n",
       "      <td>True</td>\n",
       "    </tr>\n",
       "    <tr>\n",
       "      <th>1</th>\n",
       "      <td>282643207975264</td>\n",
       "      <td>UNASSIGNED</td>\n",
       "      <td>0</td>\n",
       "      <td>ABCA1</td>\n",
       "      <td>69.262695</td>\n",
       "      <td>175.47168</td>\n",
       "      <td>23.562500</td>\n",
       "      <td>40.00</td>\n",
       "      <td>V12</td>\n",
       "      <td>0.93750</td>\n",
       "      <td>9629</td>\n",
       "      <td>predesigned_gene</td>\n",
       "      <td>True</td>\n",
       "    </tr>\n",
       "    <tr>\n",
       "      <th>2</th>\n",
       "      <td>282716222414197</td>\n",
       "      <td>nhlaipjn-1</td>\n",
       "      <td>1</td>\n",
       "      <td>ABCA1</td>\n",
       "      <td>73.387695</td>\n",
       "      <td>189.01855</td>\n",
       "      <td>21.593750</td>\n",
       "      <td>40.00</td>\n",
       "      <td>W12</td>\n",
       "      <td>0.00000</td>\n",
       "      <td>9629</td>\n",
       "      <td>predesigned_gene</td>\n",
       "      <td>True</td>\n",
       "    </tr>\n",
       "    <tr>\n",
       "      <th>3</th>\n",
       "      <td>282643207864202</td>\n",
       "      <td>bfndjloi-1</td>\n",
       "      <td>0</td>\n",
       "      <td>ABCA1</td>\n",
       "      <td>100.747070</td>\n",
       "      <td>141.87793</td>\n",
       "      <td>20.546875</td>\n",
       "      <td>36.25</td>\n",
       "      <td>V12</td>\n",
       "      <td>0.93750</td>\n",
       "      <td>9629</td>\n",
       "      <td>predesigned_gene</td>\n",
       "      <td>True</td>\n",
       "    </tr>\n",
       "    <tr>\n",
       "      <th>4</th>\n",
       "      <td>282716222540753</td>\n",
       "      <td>nhlcfdpj-1</td>\n",
       "      <td>1</td>\n",
       "      <td>ABCA7</td>\n",
       "      <td>85.856445</td>\n",
       "      <td>192.45605</td>\n",
       "      <td>22.890625</td>\n",
       "      <td>40.00</td>\n",
       "      <td>W12</td>\n",
       "      <td>0.00000</td>\n",
       "      <td>8133</td>\n",
       "      <td>predesigned_gene</td>\n",
       "      <td>True</td>\n",
       "    </tr>\n",
       "  </tbody>\n",
       "</table>\n",
       "</div>"
      ],
      "text/plain": [
       "     transcript_id     cell_id  overlaps_nucleus feature_name  x_location  \\\n",
       "0  282643208155248  bfnbkogm-1                 0         AAMP   57.153320   \n",
       "1  282643207975264  UNASSIGNED                 0        ABCA1   69.262695   \n",
       "2  282716222414197  nhlaipjn-1                 1        ABCA1   73.387695   \n",
       "3  282643207864202  bfndjloi-1                 0        ABCA1  100.747070   \n",
       "4  282716222540753  nhlcfdpj-1                 1        ABCA7   85.856445   \n",
       "\n",
       "   y_location  z_location     qv fov_name  nucleus_distance  codeword_index  \\\n",
       "0   163.29980   20.156250  35.75      V12           0.15625            3277   \n",
       "1   175.47168   23.562500  40.00      V12           0.93750            9629   \n",
       "2   189.01855   21.593750  40.00      W12           0.00000            9629   \n",
       "3   141.87793   20.546875  36.25      V12           0.93750            9629   \n",
       "4   192.45605   22.890625  40.00      W12           0.00000            8133   \n",
       "\n",
       "  codeword_category  is_gene  \n",
       "0  predesigned_gene     True  \n",
       "1  predesigned_gene     True  \n",
       "2  predesigned_gene     True  \n",
       "3  predesigned_gene     True  \n",
       "4  predesigned_gene     True  "
      ]
     },
     "execution_count": 3,
     "metadata": {},
     "output_type": "execute_result"
    }
   ],
   "source": [
    "transcript_df = pd.read_csv(\n",
    "    \"/g/huber/projects/CODEX/segtraq/valid_testdata/BC_cellseg_10x/BC_Xenium_cellseg_sample/transcripts.csv\"\n",
    ")\n",
    "transcript_df.head()"
   ]
  },
  {
   "cell_type": "markdown",
   "id": "a94f403a-8e75-4605-a6ac-64f6a245105b",
   "metadata": {},
   "source": [
    "## Technology Focus: ProSeg"
   ]
  },
  {
   "cell_type": "code",
   "execution_count": null,
   "id": "b44068d1-868e-4122-9a3c-8ee7bc4f7482",
   "metadata": {
    "tags": []
   },
   "outputs": [],
   "source": [
    "# TODO: where is the mapping between cell IDs and cell labels?\n",
    "# shape_df = gpd.read_file('/g/huber/projects/CODEX/segtraq/valid_testdata/BC_cellseg_10x/BC_Xenium_cellseg_sample/\n",
    "# proseg_output/cell-polygons-layers.geojson')\n",
    "# sdata = st.fs.create_spatialdata(points=transcript_df, shapes=shape_df,\n",
    "# optional, if your coordinates are not named x, y, z\n",
    "#                                 coord_columns=['x_location', 'y_location', 'z_location'],\n",
    "#                                 cell_key_shapes='cell',  # optional, if your cell is not called cell_id\n",
    "#                                 relabel_shapes=True,  # optional, if your cell IDs do not start at 1\n",
    "#                                )\n",
    "# sdata"
   ]
  },
  {
   "cell_type": "markdown",
   "id": "c0c74c81-ec02-43f0-af49-8941be8b2895",
   "metadata": {},
   "source": [
    "## Segger"
   ]
  },
  {
   "cell_type": "code",
   "execution_count": null,
   "id": "689dca38-224d-4683-84cf-a373cceb9cf6",
   "metadata": {},
   "outputs": [],
   "source": [
    "# TODO: where are the assignments?\n",
    "# '/g/huber/projects/CODEX/segtraq/valid_testdata/BC_cellseg_10x/BC_Xenium_cellseg_sample\n",
    "# /segger_output/val_tiles/processed/'"
   ]
  },
  {
   "cell_type": "markdown",
   "id": "371370da-8781-4d92-bf58-f54ea4143f09",
   "metadata": {},
   "source": [
    "## BIDcell"
   ]
  },
  {
   "cell_type": "code",
   "execution_count": 15,
   "id": "437dcd76-2bfb-4494-aa2c-64f1da4a8403",
   "metadata": {
    "tags": []
   },
   "outputs": [],
   "source": [
    "# TODO: do we not have whole cell labels?\n",
    "nucleus_labels = tifffile.imread(\n",
    "    \"/g/huber/projects/CODEX/segtraq/valid_testdata/BC_cellseg_10x/BC_Xenium_cellseg_sample/bidcell_output/nuclei.tif\"\n",
    ")"
   ]
  },
  {
   "cell_type": "code",
   "execution_count": null,
   "id": "07bcb559-2895-4c34-a03f-20204d8dff20",
   "metadata": {
    "tags": []
   },
   "outputs": [
    {
     "name": "stdout",
     "output_type": "stream",
     "text": [
      "\u001b[34mINFO    \u001b[0m no axes information specified in the object, setting `dims` to: \u001b[1m(\u001b[0m\u001b[32m'y'\u001b[0m, \u001b[32m'x'\u001b[0m\u001b[1m)\u001b[0m                                \n"
     ]
    },
    {
     "data": {
      "text/plain": [
       "SpatialData object\n",
       "├── Labels\n",
       "│     └── 'cell_labels': DataArray[yx] (551, 680)\n",
       "└── Points\n",
       "      └── 'transcripts': DataFrame with shape: (<Delayed>, 13) (3D points)\n",
       "with coordinate systems:\n",
       "    ▸ 'global', with elements:\n",
       "        cell_labels (Labels), transcripts (Points)"
      ]
     },
     "execution_count": 18,
     "metadata": {},
     "output_type": "execute_result"
    }
   ],
   "source": [
    "sdata = st.fs.create_spatialdata(\n",
    "    points=transcript_df,\n",
    "    labels=nucleus_labels,\n",
    "    # optional, if your coordinates are not named x, y, z\n",
    "    coord_columns=[\"x_location\", \"y_location\", \"z_location\"],\n",
    ")\n",
    "sdata"
   ]
  },
  {
   "cell_type": "markdown",
   "id": "e0c632e4-9836-43d3-98c4-e8f6ae5722f4",
   "metadata": {},
   "source": [
    "## Xenium"
   ]
  },
  {
   "cell_type": "code",
   "execution_count": null,
   "id": "a0697b48-75d4-4d86-bf35-0703a409be06",
   "metadata": {},
   "outputs": [],
   "source": [
    "# '/g/huber/projects/CODEX/segtraq/valid_testdata/BC_cellseg_10x/BC_Xenium_cellseg_sample/'"
   ]
  }
 ],
 "metadata": {
  "kernelspec": {
   "display_name": "segtraq_env",
   "language": "python",
   "name": "myenv"
  },
  "language_info": {
   "codemirror_mode": {
    "name": "ipython",
    "version": 3
   },
   "file_extension": ".py",
   "mimetype": "text/x-python",
   "name": "python",
   "nbconvert_exporter": "python",
   "pygments_lexer": "ipython3",
   "version": "3.13.5"
  }
 },
 "nbformat": 4,
 "nbformat_minor": 5
}
