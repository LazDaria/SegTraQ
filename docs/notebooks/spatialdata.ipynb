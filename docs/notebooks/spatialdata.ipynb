{
 "cells": [
  {
   "cell_type": "code",
   "execution_count": null,
   "id": "2203aa8a-77b5-4d1e-b368-5f0e3cddbfb0",
   "metadata": {
    "tags": []
   },
   "outputs": [
    {
     "name": "stdout",
     "output_type": "stream",
     "text": [
      "The autoreload extension is already loaded. To reload it, use:\n",
      "  %reload_ext autoreload\n"
     ]
    }
   ],
   "source": [
    "%load_ext autoreload\n",
    "%autoreload 2\n",
    "\n",
    "from pathlib import Path\n",
    "\n",
    "import geopandas as gpd\n",
    "import pandas as pd\n",
    "import tifffile\n",
    "\n",
    "import segtraq as st\n",
    "\n",
    "PATH = Path(\"/g/huber/projects/CODEX/segtraq/valid_testdata/BC_cellseg_10x/BC_Xenium_cellseg_sample\")"
   ]
  },
  {
   "cell_type": "markdown",
   "id": "9f954887-ea4d-4900-9750-31de27064c0d",
   "metadata": {},
   "source": [
    "# Reading files into spatialdata\n",
    "\n",
    "Before assessing the quality of a segmentation, we first need to get the data into `spatialdata` format. The following sections show how this can be achieved from a variety of different segmentation methods.\n",
    "\n",
    "We always require a transcript dataframe, and any additional data can come as shapes, labels, or images."
   ]
  },
  {
   "cell_type": "code",
   "execution_count": 73,
   "id": "19b87ea8-e26d-46e5-a2ed-f683897c75b6",
   "metadata": {
    "tags": []
   },
   "outputs": [
    {
     "data": {
      "text/html": [
       "<div>\n",
       "<style scoped>\n",
       "    .dataframe tbody tr th:only-of-type {\n",
       "        vertical-align: middle;\n",
       "    }\n",
       "\n",
       "    .dataframe tbody tr th {\n",
       "        vertical-align: top;\n",
       "    }\n",
       "\n",
       "    .dataframe thead th {\n",
       "        text-align: right;\n",
       "    }\n",
       "</style>\n",
       "<table border=\"1\" class=\"dataframe\">\n",
       "  <thead>\n",
       "    <tr style=\"text-align: right;\">\n",
       "      <th></th>\n",
       "      <th>transcript_id</th>\n",
       "      <th>cell_id</th>\n",
       "      <th>overlaps_nucleus</th>\n",
       "      <th>feature_name</th>\n",
       "      <th>x_location</th>\n",
       "      <th>y_location</th>\n",
       "      <th>z_location</th>\n",
       "      <th>qv</th>\n",
       "      <th>fov_name</th>\n",
       "      <th>nucleus_distance</th>\n",
       "      <th>codeword_index</th>\n",
       "      <th>codeword_category</th>\n",
       "      <th>is_gene</th>\n",
       "    </tr>\n",
       "  </thead>\n",
       "  <tbody>\n",
       "    <tr>\n",
       "      <th>0</th>\n",
       "      <td>282643208155248</td>\n",
       "      <td>bfnbkogm-1</td>\n",
       "      <td>0</td>\n",
       "      <td>AAMP</td>\n",
       "      <td>57.153320</td>\n",
       "      <td>163.29980</td>\n",
       "      <td>20.156250</td>\n",
       "      <td>35.75</td>\n",
       "      <td>V12</td>\n",
       "      <td>0.15625</td>\n",
       "      <td>3277</td>\n",
       "      <td>predesigned_gene</td>\n",
       "      <td>True</td>\n",
       "    </tr>\n",
       "    <tr>\n",
       "      <th>1</th>\n",
       "      <td>282643207975264</td>\n",
       "      <td>UNASSIGNED</td>\n",
       "      <td>0</td>\n",
       "      <td>ABCA1</td>\n",
       "      <td>69.262695</td>\n",
       "      <td>175.47168</td>\n",
       "      <td>23.562500</td>\n",
       "      <td>40.00</td>\n",
       "      <td>V12</td>\n",
       "      <td>0.93750</td>\n",
       "      <td>9629</td>\n",
       "      <td>predesigned_gene</td>\n",
       "      <td>True</td>\n",
       "    </tr>\n",
       "    <tr>\n",
       "      <th>2</th>\n",
       "      <td>282716222414197</td>\n",
       "      <td>nhlaipjn-1</td>\n",
       "      <td>1</td>\n",
       "      <td>ABCA1</td>\n",
       "      <td>73.387695</td>\n",
       "      <td>189.01855</td>\n",
       "      <td>21.593750</td>\n",
       "      <td>40.00</td>\n",
       "      <td>W12</td>\n",
       "      <td>0.00000</td>\n",
       "      <td>9629</td>\n",
       "      <td>predesigned_gene</td>\n",
       "      <td>True</td>\n",
       "    </tr>\n",
       "    <tr>\n",
       "      <th>3</th>\n",
       "      <td>282643207864202</td>\n",
       "      <td>bfndjloi-1</td>\n",
       "      <td>0</td>\n",
       "      <td>ABCA1</td>\n",
       "      <td>100.747070</td>\n",
       "      <td>141.87793</td>\n",
       "      <td>20.546875</td>\n",
       "      <td>36.25</td>\n",
       "      <td>V12</td>\n",
       "      <td>0.93750</td>\n",
       "      <td>9629</td>\n",
       "      <td>predesigned_gene</td>\n",
       "      <td>True</td>\n",
       "    </tr>\n",
       "    <tr>\n",
       "      <th>4</th>\n",
       "      <td>282716222540753</td>\n",
       "      <td>nhlcfdpj-1</td>\n",
       "      <td>1</td>\n",
       "      <td>ABCA7</td>\n",
       "      <td>85.856445</td>\n",
       "      <td>192.45605</td>\n",
       "      <td>22.890625</td>\n",
       "      <td>40.00</td>\n",
       "      <td>W12</td>\n",
       "      <td>0.00000</td>\n",
       "      <td>8133</td>\n",
       "      <td>predesigned_gene</td>\n",
       "      <td>True</td>\n",
       "    </tr>\n",
       "  </tbody>\n",
       "</table>\n",
       "</div>"
      ],
      "text/plain": [
       "     transcript_id     cell_id  overlaps_nucleus feature_name  x_location  \\\n",
       "0  282643208155248  bfnbkogm-1                 0         AAMP   57.153320   \n",
       "1  282643207975264  UNASSIGNED                 0        ABCA1   69.262695   \n",
       "2  282716222414197  nhlaipjn-1                 1        ABCA1   73.387695   \n",
       "3  282643207864202  bfndjloi-1                 0        ABCA1  100.747070   \n",
       "4  282716222540753  nhlcfdpj-1                 1        ABCA7   85.856445   \n",
       "\n",
       "   y_location  z_location     qv fov_name  nucleus_distance  codeword_index  \\\n",
       "0   163.29980   20.156250  35.75      V12           0.15625            3277   \n",
       "1   175.47168   23.562500  40.00      V12           0.93750            9629   \n",
       "2   189.01855   21.593750  40.00      W12           0.00000            9629   \n",
       "3   141.87793   20.546875  36.25      V12           0.93750            9629   \n",
       "4   192.45605   22.890625  40.00      W12           0.00000            8133   \n",
       "\n",
       "  codeword_category  is_gene  \n",
       "0  predesigned_gene     True  \n",
       "1  predesigned_gene     True  \n",
       "2  predesigned_gene     True  \n",
       "3  predesigned_gene     True  \n",
       "4  predesigned_gene     True  "
      ]
     },
     "execution_count": 73,
     "metadata": {},
     "output_type": "execute_result"
    }
   ],
   "source": [
    "# reading the transcript df\n",
    "transcript_df = pd.read_csv(PATH / \"transcripts.csv\")\n",
    "\n",
    "# optional, if you want to add an image\n",
    "image = tifffile.imread(PATH / \"dapi_um.tif\")\n",
    "\n",
    "transcript_df.head()"
   ]
  },
  {
   "cell_type": "markdown",
   "id": "01b68b29-5b0c-4c7f-b980-8e02adc7130c",
   "metadata": {},
   "source": [
    "If you want to load the data into a spatialdata object yourself, you can use the `create_spatialdata()` method. Alternatively, you can opt for one of our technology-specific readers, which are detailed below."
   ]
  },
  {
   "cell_type": "code",
   "execution_count": 89,
   "id": "45b14469-63ef-42c5-9169-65c83e17194e",
   "metadata": {
    "tags": []
   },
   "outputs": [
    {
     "name": "stdout",
     "output_type": "stream",
     "text": [
      "\u001b[34mINFO    \u001b[0m no axes information specified in the object, setting `dims` to: \u001b[1m(\u001b[0m\u001b[32m'c'\u001b[0m, \u001b[32m'y'\u001b[0m, \u001b[32m'x'\u001b[0m\u001b[1m)\u001b[0m                           \n"
     ]
    },
    {
     "data": {
      "text/plain": [
       "SpatialData object\n",
       "├── Images\n",
       "│     └── 'image': DataArray[cyx] (1, 551, 680)\n",
       "└── Points\n",
       "      └── 'transcripts': DataFrame with shape: (<Delayed>, 13) (3D points)\n",
       "with coordinate systems:\n",
       "    ▸ 'global', with elements:\n",
       "        image (Images), transcripts (Points)"
      ]
     },
     "execution_count": 89,
     "metadata": {},
     "output_type": "execute_result"
    }
   ],
   "source": [
    "# example for how to create a spatialdata object yourself\n",
    "sdata = st.fs.create_spatialdata(\n",
    "    points=transcript_df, images=image, coord_columns=[\"x_location\", \"y_location\", \"z_location\"]\n",
    ")\n",
    "sdata"
   ]
  },
  {
   "cell_type": "markdown",
   "id": "b181a3ec-798a-423a-a022-b48fa2c45898",
   "metadata": {},
   "source": [
    "If you already have a spatialdata object, you can quickly assess its consistency with `validate_spatialdata()`. This will check if the cell IDs match between the transcripts and the shapes, if the labels and shapes contain the same number of cells, and a couple of other things. If everything is okay, the method will simply return `True`."
   ]
  },
  {
   "cell_type": "code",
   "execution_count": 90,
   "id": "fa5afacf-893e-4c08-90a5-2141abc8cd39",
   "metadata": {
    "tags": []
   },
   "outputs": [
    {
     "data": {
      "text/plain": [
       "True"
      ]
     },
     "execution_count": 90,
     "metadata": {},
     "output_type": "execute_result"
    }
   ],
   "source": [
    "st.fs.validate_spatialdata(sdata)"
   ]
  },
  {
   "cell_type": "markdown",
   "id": "a94f403a-8e75-4605-a6ac-64f6a245105b",
   "metadata": {},
   "source": [
    "## Technology Focus: ProSeg"
   ]
  },
  {
   "cell_type": "code",
   "execution_count": 74,
   "id": "44e5032f-48af-445b-afb0-80da06039610",
   "metadata": {
    "tags": []
   },
   "outputs": [],
   "source": [
    "shapes = gpd.read_file(PATH / \"proseg_output/cell-polygons-layers.geojson\")"
   ]
  },
  {
   "cell_type": "code",
   "execution_count": 75,
   "id": "9f755e32-8e1e-47e3-aa3c-b9a97796cfc4",
   "metadata": {
    "tags": []
   },
   "outputs": [],
   "source": [
    "# reading the nucleus shapes and converting the data frames into geopandas dfs\n",
    "# TODO\n",
    "# nucleus_shapes = st.fs.create_geopandas_df(nucleus_shapes)"
   ]
  },
  {
   "cell_type": "code",
   "execution_count": 77,
   "id": "aadc816c-13c9-4398-b2fb-c9986d52606c",
   "metadata": {
    "tags": []
   },
   "outputs": [],
   "source": [
    "# TODO: FIX THE MAPPING OF CELL IDS AND LABEL IDS\n",
    "# sdata = st.fs.create_spatialdata(points=transcript_df,\n",
    "#                                 images=image,\n",
    "#                                 shapes=shapes,\n",
    "#                                 coord_columns=['x_location', 'y_location', 'z_location'],\n",
    "#                                 cell_key_shapes='cell',\n",
    "#                                 relabel_shapes=True)"
   ]
  },
  {
   "cell_type": "code",
   "execution_count": null,
   "id": "b44068d1-868e-4122-9a3c-8ee7bc4f7482",
   "metadata": {
    "tags": []
   },
   "outputs": [],
   "source": [
    "# TODO: where is the mapping between cell IDs and cell labels?\n",
    "# shape_df = gpd.read_file('/g/huber/projects/CODEX/segtraq/valid_testdata/BC_cellseg_10x/BC_Xenium_cellseg_sample/\n",
    "# proseg_output/cell-polygons-layers.geojson')\n",
    "# sdata = st.fs.create_spatialdata(points=transcript_df, shapes=shape_df,\n",
    "# optional, if your coordinates are not named x, y, z\n",
    "#                                 coord_columns=['x_location', 'y_location', 'z_location'],\n",
    "#                                 cell_key_shapes='cell',  # optional, if your cell is not called cell_id\n",
    "#                                 relabel_shapes=True,  # optional, if your cell IDs do not start at 1\n",
    "#                                )\n",
    "# sdata"
   ]
  },
  {
   "cell_type": "markdown",
   "id": "c0c74c81-ec02-43f0-af49-8941be8b2895",
   "metadata": {},
   "source": [
    "## Segger"
   ]
  },
  {
   "cell_type": "code",
   "execution_count": null,
   "id": "689dca38-224d-4683-84cf-a373cceb9cf6",
   "metadata": {},
   "outputs": [],
   "source": []
  },
  {
   "cell_type": "markdown",
   "id": "371370da-8781-4d92-bf58-f54ea4143f09",
   "metadata": {},
   "source": [
    "## BIDcell"
   ]
  },
  {
   "cell_type": "code",
   "execution_count": 78,
   "id": "437dcd76-2bfb-4494-aa2c-64f1da4a8403",
   "metadata": {
    "tags": []
   },
   "outputs": [],
   "source": [
    "bidcell_path = PATH / \"bidcell_output\"\n",
    "\n",
    "# reading cell labels\n",
    "cell_labels_path = list(bidcell_path.glob(\"model_outputs/202*/test_output/epoch_4_step_100_connected.tif\"))\n",
    "cell_labels = tifffile.imread(cell_labels_path[0])\n",
    "\n",
    "# reading nucleus labels\n",
    "nucleus_labels = tifffile.imread(bidcell_path / \"nuclei.tif\")\n",
    "\n",
    "# reading the resized image\n",
    "image = tifffile.imread(bidcell_path / \"dapi_resized.tif\")\n",
    "\n",
    "# reading the processed transcripts\n",
    "transcripts = pd.read_csv(bidcell_path / \"transcripts_processed.csv\", index_col=0)"
   ]
  },
  {
   "cell_type": "code",
   "execution_count": 79,
   "id": "07bcb559-2895-4c34-a03f-20204d8dff20",
   "metadata": {
    "tags": []
   },
   "outputs": [
    {
     "name": "stdout",
     "output_type": "stream",
     "text": [
      "\u001b[34mINFO    \u001b[0m no axes information specified in the object, setting `dims` to: \u001b[1m(\u001b[0m\u001b[32m'y'\u001b[0m, \u001b[32m'x'\u001b[0m\u001b[1m)\u001b[0m                                \n",
      "\u001b[34mINFO    \u001b[0m no axes information specified in the object, setting `dims` to: \u001b[1m(\u001b[0m\u001b[32m'c'\u001b[0m, \u001b[32m'y'\u001b[0m, \u001b[32m'x'\u001b[0m\u001b[1m)\u001b[0m                           \n"
     ]
    },
    {
     "data": {
      "text/plain": [
       "SpatialData object\n",
       "├── Images\n",
       "│     └── 'image': DataArray[cyx] (1, 551, 680)\n",
       "├── Labels\n",
       "│     ├── 'cell_labels': DataArray[yx] (551, 680)\n",
       "│     └── 'nucleus_labels': DataArray[yx] (551, 680)\n",
       "└── Points\n",
       "      └── 'transcripts': DataFrame with shape: (<Delayed>, 13) (3D points)\n",
       "with coordinate systems:\n",
       "    ▸ 'global', with elements:\n",
       "        image (Images), cell_labels (Labels), nucleus_labels (Labels), transcripts (Points)"
      ]
     },
     "execution_count": 79,
     "metadata": {},
     "output_type": "execute_result"
    }
   ],
   "source": [
    "sdata = st.fs.create_spatialdata(\n",
    "    points=transcripts,\n",
    "    labels={\"cell_labels\": cell_labels, \"nucleus_labels\": nucleus_labels},\n",
    "    images=image,\n",
    "    # optional, if your coordinates are not named x, y, z\n",
    "    coord_columns=[\"x_location\", \"y_location\", \"z_location\"],\n",
    ")\n",
    "sdata"
   ]
  },
  {
   "cell_type": "code",
   "execution_count": 80,
   "id": "9a49ab04-837c-4310-bdd4-a4a4aa37d308",
   "metadata": {
    "tags": []
   },
   "outputs": [
    {
     "data": {
      "text/plain": [
       "SpatialData object\n",
       "├── Images\n",
       "│     └── 'image': DataArray[cyx] (1, 551, 680)\n",
       "├── Labels\n",
       "│     ├── 'cell_labels': DataArray[yx] (551, 680)\n",
       "│     └── 'nucleus_labels': DataArray[yx] (551, 680)\n",
       "├── Points\n",
       "│     └── 'transcripts': DataFrame with shape: (<Delayed>, 13) (3D points)\n",
       "└── Shapes\n",
       "      └── 'cell_boundaries': GeoDataFrame shape: (2276, 2) (2D shapes)\n",
       "with coordinate systems:\n",
       "    ▸ 'global', with elements:\n",
       "        image (Images), cell_labels (Labels), nucleus_labels (Labels), transcripts (Points), cell_boundaries (Shapes)"
      ]
     },
     "execution_count": 80,
     "metadata": {},
     "output_type": "execute_result"
    }
   ],
   "source": [
    "# we can compute the shapes as follows\n",
    "sdata = st.fs.compute_shapes(sdata, labels_key=\"cell_labels\")\n",
    "sdata"
   ]
  },
  {
   "cell_type": "code",
   "execution_count": 82,
   "id": "651c62ee-0e03-4f6b-856c-2f4e4f1db119",
   "metadata": {
    "tags": []
   },
   "outputs": [],
   "source": [
    "# TODO: FIX THE MAPPING FROM CELL TO LABEL IDS\n",
    "# st.fs.validate_spatialdata(sdata, cell_key_points='cell_id')"
   ]
  },
  {
   "cell_type": "markdown",
   "id": "e0c632e4-9836-43d3-98c4-e8f6ae5722f4",
   "metadata": {},
   "source": [
    "## Xenium"
   ]
  },
  {
   "cell_type": "code",
   "execution_count": 83,
   "id": "a0697b48-75d4-4d86-bf35-0703a409be06",
   "metadata": {
    "tags": []
   },
   "outputs": [],
   "source": [
    "image = tifffile.imread(PATH / \"dapi_um.tif\")\n",
    "cell_labels = tifffile.imread(PATH / \"cell_mask_um.tif\")\n",
    "nucleus_labels = tifffile.imread(PATH / \"nuc_mask_um.tif\")\n",
    "cell_shapes = pd.read_parquet(PATH / \"cell_boundaries.parquet\")\n",
    "nucleus_shapes = pd.read_parquet(PATH / \"nucleus_boundaries.parquet\")\n",
    "transcript_df = pd.read_csv(PATH / \"transcripts.csv\")"
   ]
  },
  {
   "cell_type": "code",
   "execution_count": 84,
   "id": "06171863-007e-4e60-9893-c3a403b336fd",
   "metadata": {
    "tags": []
   },
   "outputs": [],
   "source": [
    "# converting the data frames into geopandas dfs\n",
    "cell_shapes = st.fs.create_geopandas_df(cell_shapes)\n",
    "nucleus_shapes = st.fs.create_geopandas_df(nucleus_shapes)"
   ]
  },
  {
   "cell_type": "code",
   "execution_count": 85,
   "id": "c08a070f-371f-4c30-a6b8-4ad324a4a01a",
   "metadata": {
    "tags": []
   },
   "outputs": [
    {
     "name": "stdout",
     "output_type": "stream",
     "text": [
      "\u001b[34mINFO    \u001b[0m no axes information specified in the object, setting `dims` to: \u001b[1m(\u001b[0m\u001b[32m'y'\u001b[0m, \u001b[32m'x'\u001b[0m\u001b[1m)\u001b[0m                                \n",
      "\u001b[34mINFO    \u001b[0m no axes information specified in the object, setting `dims` to: \u001b[1m(\u001b[0m\u001b[32m'c'\u001b[0m, \u001b[32m'y'\u001b[0m, \u001b[32m'x'\u001b[0m\u001b[1m)\u001b[0m                           \n"
     ]
    },
    {
     "name": "stderr",
     "output_type": "stream",
     "text": [
      "/g/huber/users/meyerben/notebooks/spatial_transcriptomics/SegTraQ/src/segtraq/fs/fix_spatialdata.py:299: UserWarning: Missing 7 cell IDs in shapes: There are 2231 cell IDs in labels, but only 2224 are in shapes. This might lead to inconsistencies in the spatialdata object.\n",
      "  validate_spatialdata(\n"
     ]
    },
    {
     "data": {
      "text/plain": [
       "SpatialData object\n",
       "├── Images\n",
       "│     └── 'image': DataArray[cyx] (1, 551, 680)\n",
       "├── Labels\n",
       "│     ├── 'cell_labels': DataArray[yx] (551, 680)\n",
       "│     └── 'nucleus_labels': DataArray[yx] (551, 680)\n",
       "├── Points\n",
       "│     └── 'transcripts': DataFrame with shape: (<Delayed>, 13) (3D points)\n",
       "└── Shapes\n",
       "      ├── 'cell_boundaries': GeoDataFrame shape: (2198, 2) (2D shapes)\n",
       "      └── 'nucleus_boundaries': GeoDataFrame shape: (2195, 2) (2D shapes)\n",
       "with coordinate systems:\n",
       "    ▸ 'global', with elements:\n",
       "        image (Images), cell_labels (Labels), nucleus_labels (Labels), transcripts (Points), cell_boundaries (Shapes), nucleus_boundaries (Shapes)"
      ]
     },
     "execution_count": 85,
     "metadata": {},
     "output_type": "execute_result"
    }
   ],
   "source": [
    "sdata = st.fs.create_spatialdata(\n",
    "    points=transcripts,\n",
    "    labels={\"cell_labels\": cell_labels, \"nucleus_labels\": nucleus_labels},\n",
    "    images=image,\n",
    "    shapes={\"cell_boundaries\": cell_shapes, \"nucleus_boundaries\": nucleus_shapes},\n",
    "    # optional, if your coordinates are not named x, y, z\n",
    "    coord_columns=[\"x_location\", \"y_location\", \"z_location\"],\n",
    "    consolidate_shapes=True,\n",
    ")\n",
    "sdata"
   ]
  },
  {
   "cell_type": "code",
   "execution_count": 86,
   "id": "9a557a09-ca98-4c61-ab0d-c6f818916490",
   "metadata": {
    "tags": []
   },
   "outputs": [
    {
     "name": "stderr",
     "output_type": "stream",
     "text": [
      "/tmp/ipykernel_3517/3303122172.py:2: UserWarning: Missing 33 cell IDs in shapes: There are 2231 cell IDs in labels, but only 2198 are in shapes. This might lead to inconsistencies in the spatialdata object.\n",
      "  st.fs.validate_spatialdata(sdata, cell_key_points='cell_id')\n"
     ]
    },
    {
     "data": {
      "text/plain": [
       "True"
      ]
     },
     "execution_count": 86,
     "metadata": {},
     "output_type": "execute_result"
    }
   ],
   "source": [
    "# ensuring that the new spatialdata is consistent\n",
    "st.fs.validate_spatialdata(sdata, cell_key_points=\"cell_id\")"
   ]
  },
  {
   "cell_type": "code",
   "execution_count": null,
   "id": "465dcf42-8dac-49d0-a6a4-64773c089b74",
   "metadata": {},
   "outputs": [],
   "source": []
  }
 ],
 "metadata": {
  "kernelspec": {
   "display_name": "segtraq_env",
   "language": "python",
   "name": "myenv"
  },
  "language_info": {
   "codemirror_mode": {
    "name": "ipython",
    "version": 3
   },
   "file_extension": ".py",
   "mimetype": "text/x-python",
   "name": "python",
   "nbconvert_exporter": "python",
   "pygments_lexer": "ipython3",
   "version": "3.13.5"
  }
 },
 "nbformat": 4,
 "nbformat_minor": 5
}
