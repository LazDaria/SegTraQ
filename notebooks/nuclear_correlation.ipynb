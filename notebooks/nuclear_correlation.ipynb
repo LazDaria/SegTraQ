{
 "cells": [
  {
   "cell_type": "markdown",
   "id": "b359c042",
   "metadata": {},
   "source": [
    "# Correlation to nuclear segmentation"
   ]
  },
  {
   "cell_type": "markdown",
   "id": "d3ae8093",
   "metadata": {},
   "source": [
    "The `nuclear_correlation` module provides metrics to assess how well cell segmentation masks align with nuclear segmentation masks. It is applicable only when nuclear masks are available."
   ]
  },
  {
   "cell_type": "code",
   "execution_count": 7,
   "id": "124ea179",
   "metadata": {},
   "outputs": [
    {
     "name": "stdout",
     "output_type": "stream",
     "text": [
      "The autoreload extension is already loaded. To reload it, use:\n",
      "  %reload_ext autoreload\n"
     ]
    }
   ],
   "source": [
    "%load_ext autoreload\n",
    "%autoreload 2"
   ]
  },
  {
   "cell_type": "code",
   "execution_count": 8,
   "id": "c1e45a95",
   "metadata": {},
   "outputs": [
    {
     "name": "stderr",
     "output_type": "stream",
     "text": [
      "version mismatch: detected: RasterFormatV02, requested: FormatV04\n",
      "/home/lazic/miniforge3/envs/sc_analysis_sdata/lib/python3.10/site-packages/zarr/creation.py:614: UserWarning: ignoring keyword argument 'read_only'\n",
      "  compressor, fill_value = _kwargs_compat(compressor, fill_value, kwargs)\n",
      "/home/lazic/miniforge3/envs/sc_analysis_sdata/lib/python3.10/site-packages/zarr/creation.py:614: UserWarning: ignoring keyword argument 'read_only'\n",
      "  compressor, fill_value = _kwargs_compat(compressor, fill_value, kwargs)\n",
      "/home/lazic/miniforge3/envs/sc_analysis_sdata/lib/python3.10/site-packages/zarr/creation.py:614: UserWarning: ignoring keyword argument 'read_only'\n",
      "  compressor, fill_value = _kwargs_compat(compressor, fill_value, kwargs)\n",
      "/home/lazic/miniforge3/envs/sc_analysis_sdata/lib/python3.10/site-packages/zarr/creation.py:614: UserWarning: ignoring keyword argument 'read_only'\n",
      "  compressor, fill_value = _kwargs_compat(compressor, fill_value, kwargs)\n",
      "/home/lazic/miniforge3/envs/sc_analysis_sdata/lib/python3.10/site-packages/zarr/creation.py:614: UserWarning: ignoring keyword argument 'read_only'\n",
      "  compressor, fill_value = _kwargs_compat(compressor, fill_value, kwargs)\n",
      "version mismatch: detected: RasterFormatV02, requested: FormatV04\n",
      "/home/lazic/miniforge3/envs/sc_analysis_sdata/lib/python3.10/site-packages/zarr/creation.py:614: UserWarning: ignoring keyword argument 'read_only'\n",
      "  compressor, fill_value = _kwargs_compat(compressor, fill_value, kwargs)\n",
      "version mismatch: detected: RasterFormatV02, requested: FormatV04\n",
      "version mismatch: detected: RasterFormatV02, requested: FormatV04\n"
     ]
    }
   ],
   "source": [
    "import spatialdata as sd\n",
    "\n",
    "sdata = sd.read_zarr(\"/home/lazic/src/segtraq/tests/data/xenium_sp_subset.zarr\")"
   ]
  },
  {
   "cell_type": "code",
   "execution_count": 9,
   "id": "d9c6b850",
   "metadata": {},
   "outputs": [
    {
     "data": {
      "text/plain": [
       "SpatialData object, with associated Zarr store: /g/huber/users/lazic/src/segtraq/tests/data/xenium_sp_subset.zarr\n",
       "├── Images\n",
       "│     ├── 'he_image': DataTree[cyx] (3, 448, 527), (3, 224, 264), (3, 112, 131), (3, 56, 66), (3, 28, 33)\n",
       "│     ├── 'if_image': DataTree[cyx] (3, 221, 260), (3, 111, 130), (3, 55, 65), (3, 28, 33), (3, 13, 16)\n",
       "│     ├── 'morphology_focus': DataTree[cyx] (1, 763, 899), (1, 381, 450), (1, 191, 225), (1, 95, 112), (1, 47, 56)\n",
       "│     └── 'morphology_mip': DataTree[cyx] (1, 763, 899), (1, 381, 450), (1, 191, 225), (1, 95, 112), (1, 47, 56)\n",
       "├── Labels\n",
       "│     ├── 'cell_labels': DataTree[yx] (763, 899), (381, 450), (191, 225), (95, 112), (47, 56)\n",
       "│     └── 'nucleus_labels': DataTree[yx] (763, 899), (381, 450), (191, 225), (95, 112), (47, 56)\n",
       "├── Points\n",
       "│     └── 'transcripts': DataFrame with shape: (<Delayed>, 8) (3D points)\n",
       "├── Shapes\n",
       "│     ├── 'cell_boundaries': GeoDataFrame shape: (158, 1) (2D shapes)\n",
       "│     ├── 'cell_circles': GeoDataFrame shape: (122, 2) (2D shapes)\n",
       "│     └── 'nucleus_boundaries': GeoDataFrame shape: (132, 1) (2D shapes)\n",
       "└── Tables\n",
       "      └── 'table': AnnData (122, 313)\n",
       "with coordinate systems:\n",
       "    ▸ 'global', with elements:\n",
       "        he_image (Images), if_image (Images), morphology_focus (Images), morphology_mip (Images), cell_labels (Labels), nucleus_labels (Labels), transcripts (Points), cell_boundaries (Shapes), cell_circles (Shapes), nucleus_boundaries (Shapes)"
      ]
     },
     "execution_count": 9,
     "metadata": {},
     "output_type": "execute_result"
    }
   ],
   "source": [
    "sdata"
   ]
  },
  {
   "cell_type": "code",
   "execution_count": 10,
   "id": "3d0ebb94",
   "metadata": {},
   "outputs": [],
   "source": [
    "sdata[\"table\"].obs.reset_index(inplace=True)"
   ]
  },
  {
   "cell_type": "code",
   "execution_count": 11,
   "id": "812efa53",
   "metadata": {},
   "outputs": [
    {
     "data": {
      "application/vnd.microsoft.datawrangler.viewer.v0+json": {
       "columns": [
        {
         "name": "index",
         "rawType": "int64",
         "type": "integer"
        },
        {
         "name": "index",
         "rawType": "object",
         "type": "string"
        },
        {
         "name": "cell_id",
         "rawType": "int32",
         "type": "integer"
        },
        {
         "name": "transcript_counts",
         "rawType": "int64",
         "type": "integer"
        },
        {
         "name": "control_probe_counts",
         "rawType": "int64",
         "type": "integer"
        },
        {
         "name": "control_codeword_counts",
         "rawType": "int64",
         "type": "integer"
        },
        {
         "name": "total_counts",
         "rawType": "int64",
         "type": "integer"
        },
        {
         "name": "cell_area",
         "rawType": "float64",
         "type": "float"
        },
        {
         "name": "nucleus_area",
         "rawType": "float64",
         "type": "float"
        },
        {
         "name": "region",
         "rawType": "category",
         "type": "unknown"
        }
       ],
       "ref": "cf80304e-e3a5-42a6-a07e-b52001411ccb",
       "rows": [
        [
         "0",
         "4612",
         "4613",
         "210",
         "0",
         "0",
         "210",
         "272.06640625",
         "27.31953125",
         "cell_boundaries"
        ],
        [
         "1",
         "4613",
         "4614",
         "192",
         "0",
         "0",
         "192",
         "154.20859375",
         "33.280156250000005",
         "cell_boundaries"
        ],
        [
         "2",
         "4614",
         "4615",
         "174",
         "0",
         "0",
         "174",
         "170.19390625",
         "31.74484375",
         "cell_boundaries"
        ],
        [
         "3",
         "4615",
         "4616",
         "70",
         "0",
         "0",
         "70",
         "85.796875",
         "26.235781250000002",
         "cell_boundaries"
        ],
        [
         "4",
         "4616",
         "4617",
         "85",
         "0",
         "0",
         "85",
         "101.73703125",
         "16.84328125",
         "cell_boundaries"
        ],
        [
         "5",
         "4617",
         "4618",
         "155",
         "1",
         "0",
         "156",
         "155.69875000000002",
         "29.26125",
         "cell_boundaries"
        ],
        [
         "6",
         "4619",
         "4620",
         "166",
         "0",
         "0",
         "166",
         "155.7890625",
         "38.96984375",
         "cell_boundaries"
        ],
        [
         "7",
         "4876",
         "4877",
         "212",
         "2",
         "0",
         "214",
         "217.69828125",
         "80.2878125",
         "cell_boundaries"
        ],
        [
         "8",
         "4877",
         "4878",
         "346",
         "2",
         "0",
         "348",
         "394.07859375000004",
         "15.533750000000001",
         "cell_boundaries"
        ],
        [
         "9",
         "4878",
         "4879",
         "127",
         "1",
         "0",
         "128",
         "267.18953125",
         "35.44765625",
         "cell_boundaries"
        ],
        [
         "10",
         "4879",
         "4880",
         "201",
         "0",
         "0",
         "201",
         "258.835625",
         "29.712812500000002",
         "cell_boundaries"
        ],
        [
         "11",
         "4880",
         "4881",
         "71",
         "1",
         "0",
         "72",
         "120.5671875",
         "9.527968750000001",
         "cell_boundaries"
        ],
        [
         "12",
         "4881",
         "4882",
         "325",
         "0",
         "0",
         "325",
         "365.72046875",
         "26.913125",
         "cell_boundaries"
        ],
        [
         "13",
         "4882",
         "4883",
         "130",
         "1",
         "0",
         "131",
         "209.75078125000002",
         "30.7965625",
         "cell_boundaries"
        ],
        [
         "14",
         "4883",
         "4884",
         "59",
         "0",
         "0",
         "59",
         "117.586875",
         "9.79890625",
         "cell_boundaries"
        ],
        [
         "15",
         "4884",
         "4885",
         "68",
         "1",
         "0",
         "69",
         "72.5209375",
         "10.88265625",
         "cell_boundaries"
        ],
        [
         "16",
         "4885",
         "4886",
         "111",
         "0",
         "0",
         "111",
         "176.109375",
         "36.3959375",
         "cell_boundaries"
        ],
        [
         "17",
         "4886",
         "4887",
         "137",
         "1",
         "0",
         "138",
         "209.61531250000002",
         "38.69890625",
         "cell_boundaries"
        ],
        [
         "18",
         "4887",
         "4888",
         "46",
         "0",
         "0",
         "46",
         "57.66453125",
         "10.702031250000001",
         "cell_boundaries"
        ],
        [
         "19",
         "4888",
         "4889",
         "98",
         "0",
         "0",
         "99",
         "103.4078125",
         "23.661875000000002",
         "cell_boundaries"
        ],
        [
         "20",
         "4889",
         "4890",
         "122",
         "0",
         "0",
         "122",
         "80.42328125",
         "22.98453125",
         "cell_boundaries"
        ],
        [
         "21",
         "4890",
         "4891",
         "127",
         "1",
         "0",
         "128",
         "177.55437500000002",
         "29.712812500000002",
         "cell_boundaries"
        ],
        [
         "22",
         "4892",
         "4893",
         "101",
         "0",
         "0",
         "101",
         "159.08546875000002",
         "44.388593750000005",
         "cell_boundaries"
        ],
        [
         "23",
         "4893",
         "4894",
         "173",
         "0",
         "0",
         "173",
         "183.83109375",
         "29.938593750000003",
         "cell_boundaries"
        ],
        [
         "24",
         "4894",
         "4895",
         "158",
         "0",
         "0",
         "158",
         "175.02562500000002",
         "80.55875",
         "cell_boundaries"
        ],
        [
         "25",
         "4895",
         "4896",
         "133",
         "0",
         "0",
         "133",
         "107.20093750000001",
         "28.94515625",
         "cell_boundaries"
        ],
        [
         "26",
         "4896",
         "4897",
         "115",
         "0",
         "0",
         "115",
         "155.156875",
         "11.15359375",
         "cell_boundaries"
        ],
        [
         "27",
         "4897",
         "4898",
         "171",
         "1",
         "0",
         "172",
         "247.636875",
         "39.105312500000004",
         "cell_boundaries"
        ],
        [
         "28",
         "6475",
         "6476",
         "160",
         "0",
         "0",
         "160",
         "191.95921875000002",
         "29.441875",
         "cell_boundaries"
        ],
        [
         "29",
         "6476",
         "6477",
         "54",
         "0",
         "0",
         "54",
         "58.928906250000004",
         "12.68890625",
         "cell_boundaries"
        ],
        [
         "30",
         "56071",
         "56072",
         "490",
         "0",
         "0",
         "490",
         "632.86484375",
         "52.7425",
         "cell_boundaries"
        ],
        [
         "31",
         "56072",
         "56073",
         "345",
         "1",
         "0",
         "346",
         "422.43671875",
         "27.0034375",
         "cell_boundaries"
        ],
        [
         "32",
         "56073",
         "56074",
         "149",
         "0",
         "0",
         "149",
         "251.24937500000001",
         "28.67421875",
         "cell_boundaries"
        ],
        [
         "33",
         "56074",
         "56075",
         "156",
         "0",
         "0",
         "156",
         "160.1240625",
         "21.5846875",
         "cell_boundaries"
        ],
        [
         "34",
         "56075",
         "56076",
         "347",
         "0",
         "0",
         "347",
         "380.26078125000004",
         "46.781875",
         "cell_boundaries"
        ],
        [
         "35",
         "56076",
         "56077",
         "170",
         "0",
         "0",
         "170",
         "310.31375",
         "41.95015625",
         "cell_boundaries"
        ],
        [
         "36",
         "56077",
         "56078",
         "224",
         "0",
         "0",
         "224",
         "456.62",
         "7.81203125",
         "cell_boundaries"
        ],
        [
         "37",
         "56078",
         "56079",
         "168",
         "1",
         "0",
         "169",
         "401.8003125",
         "11.830937500000001",
         "cell_boundaries"
        ],
        [
         "38",
         "56079",
         "56080",
         "79",
         "0",
         "0",
         "79",
         "74.59812500000001",
         "32.0609375",
         "cell_boundaries"
        ],
        [
         "39",
         "56080",
         "56081",
         "365",
         "5",
         "0",
         "370",
         "626.54296875",
         "56.355000000000004",
         "cell_boundaries"
        ],
        [
         "40",
         "56081",
         "56082",
         "250",
         "0",
         "0",
         "250",
         "307.10765625",
         "55.677656250000005",
         "cell_boundaries"
        ],
        [
         "41",
         "56082",
         "56083",
         "234",
         "0",
         "0",
         "234",
         "558.311875",
         "24.1134375",
         "cell_boundaries"
        ],
        [
         "42",
         "56083",
         "56084",
         "94",
         "1",
         "0",
         "95",
         "110.9940625",
         "31.248125",
         "cell_boundaries"
        ],
        [
         "43",
         "56084",
         "56085",
         "206",
         "0",
         "0",
         "206",
         "455.35562500000003",
         "31.157812500000002",
         "cell_boundaries"
        ],
        [
         "44",
         "56085",
         "56086",
         "71",
         "0",
         "0",
         "71",
         "147.39000000000001",
         "5.0575",
         "cell_boundaries"
        ],
        [
         "45",
         "56086",
         "56087",
         "193",
         "0",
         "0",
         "193",
         "322.95750000000004",
         "51.2071875",
         "cell_boundaries"
        ],
        [
         "46",
         "56087",
         "56088",
         "287",
         "0",
         "0",
         "287",
         "323.36390625",
         "38.96984375",
         "cell_boundaries"
        ],
        [
         "47",
         "56088",
         "56089",
         "327",
         "0",
         "0",
         "327",
         "456.21359375000003",
         "30.6159375",
         "cell_boundaries"
        ],
        [
         "48",
         "56089",
         "56090",
         "151",
         "0",
         "0",
         "151",
         "276.22078125",
         "27.5453125",
         "cell_boundaries"
        ],
        [
         "49",
         "56090",
         "56091",
         "40",
         "0",
         "0",
         "40",
         "117.09015625",
         "10.88265625",
         "cell_boundaries"
        ]
       ],
       "shape": {
        "columns": 9,
        "rows": 122
       }
      },
      "text/html": [
       "<div>\n",
       "<style scoped>\n",
       "    .dataframe tbody tr th:only-of-type {\n",
       "        vertical-align: middle;\n",
       "    }\n",
       "\n",
       "    .dataframe tbody tr th {\n",
       "        vertical-align: top;\n",
       "    }\n",
       "\n",
       "    .dataframe thead th {\n",
       "        text-align: right;\n",
       "    }\n",
       "</style>\n",
       "<table border=\"1\" class=\"dataframe\">\n",
       "  <thead>\n",
       "    <tr style=\"text-align: right;\">\n",
       "      <th></th>\n",
       "      <th>index</th>\n",
       "      <th>cell_id</th>\n",
       "      <th>transcript_counts</th>\n",
       "      <th>control_probe_counts</th>\n",
       "      <th>control_codeword_counts</th>\n",
       "      <th>total_counts</th>\n",
       "      <th>cell_area</th>\n",
       "      <th>nucleus_area</th>\n",
       "      <th>region</th>\n",
       "    </tr>\n",
       "  </thead>\n",
       "  <tbody>\n",
       "    <tr>\n",
       "      <th>0</th>\n",
       "      <td>4612</td>\n",
       "      <td>4613</td>\n",
       "      <td>210</td>\n",
       "      <td>0</td>\n",
       "      <td>0</td>\n",
       "      <td>210</td>\n",
       "      <td>272.066406</td>\n",
       "      <td>27.319531</td>\n",
       "      <td>cell_boundaries</td>\n",
       "    </tr>\n",
       "    <tr>\n",
       "      <th>1</th>\n",
       "      <td>4613</td>\n",
       "      <td>4614</td>\n",
       "      <td>192</td>\n",
       "      <td>0</td>\n",
       "      <td>0</td>\n",
       "      <td>192</td>\n",
       "      <td>154.208594</td>\n",
       "      <td>33.280156</td>\n",
       "      <td>cell_boundaries</td>\n",
       "    </tr>\n",
       "    <tr>\n",
       "      <th>2</th>\n",
       "      <td>4614</td>\n",
       "      <td>4615</td>\n",
       "      <td>174</td>\n",
       "      <td>0</td>\n",
       "      <td>0</td>\n",
       "      <td>174</td>\n",
       "      <td>170.193906</td>\n",
       "      <td>31.744844</td>\n",
       "      <td>cell_boundaries</td>\n",
       "    </tr>\n",
       "    <tr>\n",
       "      <th>3</th>\n",
       "      <td>4615</td>\n",
       "      <td>4616</td>\n",
       "      <td>70</td>\n",
       "      <td>0</td>\n",
       "      <td>0</td>\n",
       "      <td>70</td>\n",
       "      <td>85.796875</td>\n",
       "      <td>26.235781</td>\n",
       "      <td>cell_boundaries</td>\n",
       "    </tr>\n",
       "    <tr>\n",
       "      <th>4</th>\n",
       "      <td>4616</td>\n",
       "      <td>4617</td>\n",
       "      <td>85</td>\n",
       "      <td>0</td>\n",
       "      <td>0</td>\n",
       "      <td>85</td>\n",
       "      <td>101.737031</td>\n",
       "      <td>16.843281</td>\n",
       "      <td>cell_boundaries</td>\n",
       "    </tr>\n",
       "    <tr>\n",
       "      <th>...</th>\n",
       "      <td>...</td>\n",
       "      <td>...</td>\n",
       "      <td>...</td>\n",
       "      <td>...</td>\n",
       "      <td>...</td>\n",
       "      <td>...</td>\n",
       "      <td>...</td>\n",
       "      <td>...</td>\n",
       "      <td>...</td>\n",
       "    </tr>\n",
       "    <tr>\n",
       "      <th>117</th>\n",
       "      <td>80758</td>\n",
       "      <td>80759</td>\n",
       "      <td>227</td>\n",
       "      <td>0</td>\n",
       "      <td>0</td>\n",
       "      <td>227</td>\n",
       "      <td>256.984219</td>\n",
       "      <td>42.221094</td>\n",
       "      <td>cell_boundaries</td>\n",
       "    </tr>\n",
       "    <tr>\n",
       "      <th>118</th>\n",
       "      <td>80759</td>\n",
       "      <td>80760</td>\n",
       "      <td>198</td>\n",
       "      <td>0</td>\n",
       "      <td>0</td>\n",
       "      <td>198</td>\n",
       "      <td>222.800938</td>\n",
       "      <td>30.028906</td>\n",
       "      <td>cell_boundaries</td>\n",
       "    </tr>\n",
       "    <tr>\n",
       "      <th>119</th>\n",
       "      <td>80760</td>\n",
       "      <td>80761</td>\n",
       "      <td>110</td>\n",
       "      <td>0</td>\n",
       "      <td>0</td>\n",
       "      <td>110</td>\n",
       "      <td>111.355313</td>\n",
       "      <td>33.144688</td>\n",
       "      <td>cell_boundaries</td>\n",
       "    </tr>\n",
       "    <tr>\n",
       "      <th>120</th>\n",
       "      <td>80761</td>\n",
       "      <td>80762</td>\n",
       "      <td>150</td>\n",
       "      <td>0</td>\n",
       "      <td>0</td>\n",
       "      <td>150</td>\n",
       "      <td>322.189844</td>\n",
       "      <td>60.644844</td>\n",
       "      <td>cell_boundaries</td>\n",
       "    </tr>\n",
       "    <tr>\n",
       "      <th>121</th>\n",
       "      <td>80762</td>\n",
       "      <td>80763</td>\n",
       "      <td>109</td>\n",
       "      <td>0</td>\n",
       "      <td>0</td>\n",
       "      <td>109</td>\n",
       "      <td>152.763594</td>\n",
       "      <td>41.769531</td>\n",
       "      <td>cell_boundaries</td>\n",
       "    </tr>\n",
       "  </tbody>\n",
       "</table>\n",
       "<p>122 rows × 9 columns</p>\n",
       "</div>"
      ],
      "text/plain": [
       "     index  cell_id  transcript_counts  control_probe_counts  \\\n",
       "0     4612     4613                210                     0   \n",
       "1     4613     4614                192                     0   \n",
       "2     4614     4615                174                     0   \n",
       "3     4615     4616                 70                     0   \n",
       "4     4616     4617                 85                     0   \n",
       "..     ...      ...                ...                   ...   \n",
       "117  80758    80759                227                     0   \n",
       "118  80759    80760                198                     0   \n",
       "119  80760    80761                110                     0   \n",
       "120  80761    80762                150                     0   \n",
       "121  80762    80763                109                     0   \n",
       "\n",
       "     control_codeword_counts  total_counts   cell_area  nucleus_area  \\\n",
       "0                          0           210  272.066406     27.319531   \n",
       "1                          0           192  154.208594     33.280156   \n",
       "2                          0           174  170.193906     31.744844   \n",
       "3                          0            70   85.796875     26.235781   \n",
       "4                          0            85  101.737031     16.843281   \n",
       "..                       ...           ...         ...           ...   \n",
       "117                        0           227  256.984219     42.221094   \n",
       "118                        0           198  222.800938     30.028906   \n",
       "119                        0           110  111.355313     33.144688   \n",
       "120                        0           150  322.189844     60.644844   \n",
       "121                        0           109  152.763594     41.769531   \n",
       "\n",
       "              region  \n",
       "0    cell_boundaries  \n",
       "1    cell_boundaries  \n",
       "2    cell_boundaries  \n",
       "3    cell_boundaries  \n",
       "4    cell_boundaries  \n",
       "..               ...  \n",
       "117  cell_boundaries  \n",
       "118  cell_boundaries  \n",
       "119  cell_boundaries  \n",
       "120  cell_boundaries  \n",
       "121  cell_boundaries  \n",
       "\n",
       "[122 rows x 9 columns]"
      ]
     },
     "execution_count": 11,
     "metadata": {},
     "output_type": "execute_result"
    }
   ],
   "source": [
    "sdata[\"table\"].obs"
   ]
  },
  {
   "cell_type": "markdown",
   "id": "e94ec0f4",
   "metadata": {},
   "source": [
    "The `spatialdata`dataset contains cell and nuclear masks as `Shapes`and `Labels`, as shown below."
   ]
  },
  {
   "cell_type": "markdown",
   "id": "1be1f0ef",
   "metadata": {},
   "source": [
    "## Intersection over Union between cell and nucleus masks"
   ]
  },
  {
   "cell_type": "markdown",
   "id": "a90c2573",
   "metadata": {},
   "source": [
    "First, we compute the Intersection over Union (IoU) between cell and nuclear masks using `compute_cell_nuc_ious`."
   ]
  },
  {
   "cell_type": "code",
   "execution_count": 12,
   "id": "308d517b",
   "metadata": {},
   "outputs": [
    {
     "name": "stderr",
     "output_type": "stream",
     "text": [
      "Processing IoU between cells and nuclei: 100%|██████████| 158/158 [00:00<00:00, 921.10it/s]"
     ]
    },
    {
     "name": "stdout",
     "output_type": "stream",
     "text": [
      "Elapsed time with 1 threads: 0.18 seconds\n"
     ]
    },
    {
     "name": "stderr",
     "output_type": "stream",
     "text": [
      "\n"
     ]
    }
   ],
   "source": [
    "import time\n",
    "\n",
    "import segtraq as st\n",
    "\n",
    "n = 1\n",
    "\n",
    "start = time.time()\n",
    "results_df = st.nc.compute_cell_nuc_ious(sdata, n_jobs=n)\n",
    "end = time.time()\n",
    "\n",
    "print(f\"Elapsed time with {n} threads: {end - start:.2f} seconds\")"
   ]
  },
  {
   "cell_type": "markdown",
   "id": "eb9717cf",
   "metadata": {},
   "source": [
    "For each `cell_id`, we obtain the ID (`best_nuc_id`) of the nucleus mask with the highest `IoU`. If a cell does not overlap with any nucleus, the function returns a missing value for `best_nuc_id`. If the nucleus has an invalid geometry, `IoU`is reported as `NA`."
   ]
  },
  {
   "cell_type": "code",
   "execution_count": 13,
   "id": "d775d70f",
   "metadata": {},
   "outputs": [
    {
     "data": {
      "application/vnd.microsoft.datawrangler.viewer.v0+json": {
       "columns": [
        {
         "name": "index",
         "rawType": "int64",
         "type": "integer"
        },
        {
         "name": "cell_id",
         "rawType": "int64",
         "type": "integer"
        },
        {
         "name": "best_nuc_id",
         "rawType": "object",
         "type": "unknown"
        },
        {
         "name": "IoU",
         "rawType": "float64",
         "type": "float"
        }
       ],
       "ref": "3c533300-12ea-4dff-8626-7dd2ca73eead",
       "rows": [
        [
         "0",
         "4613",
         "4613",
         "0.0940927497585202"
        ],
        [
         "1",
         "4614",
         "4614",
         "0.20723778337963766"
        ],
        [
         "2",
         "4615",
         "4615",
         "0.17868621093941922"
        ],
        [
         "3",
         "4616",
         "4616",
         "0.2929092296440988"
        ],
        [
         "4",
         "4617",
         "4617",
         "0.16182449365317156"
        ],
        [
         "5",
         "4618",
         "4618",
         "0.18049900671436703"
        ],
        [
         "6",
         "4619",
         "4619",
         "0.1316909404510138"
        ],
        [
         "7",
         "4620",
         "4620",
         "0.24869085206908934"
        ],
        [
         "8",
         "4876",
         null,
         "0.0"
        ],
        [
         "9",
         "4877",
         "4877",
         "0.35265224599282213"
        ],
        [
         "10",
         "4878",
         "4878",
         "0.035857624170141135"
        ],
        [
         "11",
         "4879",
         "4879",
         "0.12667197309850936"
        ],
        [
         "12",
         "4880",
         "4880",
         "0.10832224019146748"
        ],
        [
         "13",
         "4881",
         "4881",
         "0.07293293547595052"
        ],
        [
         "14",
         "4882",
         "4882",
         "0.06773325534333684"
        ],
        [
         "15",
         "4883",
         "4883",
         "0.13962117345688058"
        ],
        [
         "16",
         "4884",
         "4884",
         "0.077476607225262"
        ],
        [
         "17",
         "4885",
         "4885",
         "0.14056101480239527"
        ],
        [
         "18",
         "4886",
         "4886",
         "0.1983962238544355"
        ],
        [
         "19",
         "4887",
         "4887",
         "0.17033661536398784"
        ],
        [
         "20",
         "4888",
         "4888",
         "0.17309459212292563"
        ],
        [
         "21",
         "4889",
         "4889",
         "0.21940195203994556"
        ],
        [
         "22",
         "4890",
         "4890",
         "0.27752479148469217"
        ],
        [
         "23",
         "4891",
         "4891",
         "0.16463949909920078"
        ],
        [
         "24",
         "4892",
         "4892",
         "0.24212052297145295"
        ],
        [
         "25",
         "4893",
         "4893",
         "0.26757396504414677"
        ],
        [
         "26",
         "4894",
         "4894",
         "0.1584526797005706"
        ],
        [
         "27",
         "4895",
         "4895",
         "0.4397795924510339"
        ],
        [
         "28",
         "4896",
         "4896",
         "0.264083737163489"
        ],
        [
         "29",
         "4897",
         "4897",
         "0.06649742706455027"
        ],
        [
         "30",
         "4898",
         "4898",
         "0.1541156494023415"
        ],
        [
         "31",
         "6476",
         "6476",
         "0.147516558340253"
        ],
        [
         "32",
         "6477",
         "6477",
         "0.19944645776851794"
        ],
        [
         "33",
         "55906",
         null,
         "0.0"
        ],
        [
         "34",
         "55923",
         null,
         "0.0"
        ],
        [
         "35",
         "56072",
         "56072",
         "0.08111931004898786"
        ],
        [
         "36",
         "56073",
         "56073",
         "0.060846094389878966"
        ],
        [
         "37",
         "56074",
         "56074",
         "0.10901534372654333"
        ],
        [
         "38",
         "56075",
         "56075",
         "0.12859596815288632"
        ],
        [
         "39",
         "56076",
         "56076",
         "0.11454168965766932"
        ],
        [
         "40",
         "56077",
         "56077",
         "0.1296440179444428"
        ],
        [
         "41",
         "56078",
         "56078",
         "0.014345812098288061"
        ],
        [
         "42",
         "56079",
         "56079",
         "0.02775320491677274"
        ],
        [
         "43",
         "56080",
         "56080",
         "0.4140544142392615"
        ],
        [
         "44",
         "56081",
         "56081",
         "0.0874012989048162"
        ],
        [
         "45",
         "56082",
         "56082",
         "0.18163655236810788"
        ],
        [
         "46",
         "56083",
         "56083",
         "0.04106105890718828"
        ],
        [
         "47",
         "56084",
         "56084",
         "0.27108222413369937"
        ],
        [
         "48",
         "56085",
         "56085",
         "0.06463900742120736"
        ],
        [
         "49",
         "56086",
         "56086",
         "0.028102798076958334"
        ]
       ],
       "shape": {
        "columns": 3,
        "rows": 158
       }
      },
      "text/html": [
       "<div>\n",
       "<style scoped>\n",
       "    .dataframe tbody tr th:only-of-type {\n",
       "        vertical-align: middle;\n",
       "    }\n",
       "\n",
       "    .dataframe tbody tr th {\n",
       "        vertical-align: top;\n",
       "    }\n",
       "\n",
       "    .dataframe thead th {\n",
       "        text-align: right;\n",
       "    }\n",
       "</style>\n",
       "<table border=\"1\" class=\"dataframe\">\n",
       "  <thead>\n",
       "    <tr style=\"text-align: right;\">\n",
       "      <th></th>\n",
       "      <th>cell_id</th>\n",
       "      <th>best_nuc_id</th>\n",
       "      <th>IoU</th>\n",
       "    </tr>\n",
       "  </thead>\n",
       "  <tbody>\n",
       "    <tr>\n",
       "      <th>0</th>\n",
       "      <td>4613</td>\n",
       "      <td>4613</td>\n",
       "      <td>0.094093</td>\n",
       "    </tr>\n",
       "    <tr>\n",
       "      <th>1</th>\n",
       "      <td>4614</td>\n",
       "      <td>4614</td>\n",
       "      <td>0.207238</td>\n",
       "    </tr>\n",
       "    <tr>\n",
       "      <th>2</th>\n",
       "      <td>4615</td>\n",
       "      <td>4615</td>\n",
       "      <td>0.178686</td>\n",
       "    </tr>\n",
       "    <tr>\n",
       "      <th>3</th>\n",
       "      <td>4616</td>\n",
       "      <td>4616</td>\n",
       "      <td>0.292909</td>\n",
       "    </tr>\n",
       "    <tr>\n",
       "      <th>4</th>\n",
       "      <td>4617</td>\n",
       "      <td>4617</td>\n",
       "      <td>0.161824</td>\n",
       "    </tr>\n",
       "    <tr>\n",
       "      <th>...</th>\n",
       "      <td>...</td>\n",
       "      <td>...</td>\n",
       "      <td>...</td>\n",
       "    </tr>\n",
       "    <tr>\n",
       "      <th>153</th>\n",
       "      <td>80765</td>\n",
       "      <td>None</td>\n",
       "      <td>0.000000</td>\n",
       "    </tr>\n",
       "    <tr>\n",
       "      <th>154</th>\n",
       "      <td>80766</td>\n",
       "      <td>None</td>\n",
       "      <td>0.000000</td>\n",
       "    </tr>\n",
       "    <tr>\n",
       "      <th>155</th>\n",
       "      <td>80767</td>\n",
       "      <td>None</td>\n",
       "      <td>0.000000</td>\n",
       "    </tr>\n",
       "    <tr>\n",
       "      <th>156</th>\n",
       "      <td>80768</td>\n",
       "      <td>None</td>\n",
       "      <td>0.000000</td>\n",
       "    </tr>\n",
       "    <tr>\n",
       "      <th>157</th>\n",
       "      <td>80769</td>\n",
       "      <td>None</td>\n",
       "      <td>0.000000</td>\n",
       "    </tr>\n",
       "  </tbody>\n",
       "</table>\n",
       "<p>158 rows × 3 columns</p>\n",
       "</div>"
      ],
      "text/plain": [
       "     cell_id best_nuc_id       IoU\n",
       "0       4613        4613  0.094093\n",
       "1       4614        4614  0.207238\n",
       "2       4615        4615  0.178686\n",
       "3       4616        4616  0.292909\n",
       "4       4617        4617  0.161824\n",
       "..       ...         ...       ...\n",
       "153    80765        None  0.000000\n",
       "154    80766        None  0.000000\n",
       "155    80767        None  0.000000\n",
       "156    80768        None  0.000000\n",
       "157    80769        None  0.000000\n",
       "\n",
       "[158 rows x 3 columns]"
      ]
     },
     "execution_count": 13,
     "metadata": {},
     "output_type": "execute_result"
    }
   ],
   "source": [
    "results_df"
   ]
  },
  {
   "cell_type": "markdown",
   "id": "acc649fc",
   "metadata": {},
   "source": [
    "We will store the results in the `.obs` of the `Table` within the `sdata` object for plotting."
   ]
  },
  {
   "cell_type": "code",
   "execution_count": 14,
   "id": "2ba3620f",
   "metadata": {},
   "outputs": [
    {
     "data": {
      "text/plain": [
       "AnnData object with n_obs × n_vars = 122 × 313\n",
       "    obs: 'index', 'cell_id', 'transcript_counts', 'control_probe_counts', 'control_codeword_counts', 'total_counts', 'cell_area', 'nucleus_area', 'region'\n",
       "    var: 'gene_ids', 'feature_types', 'genome'\n",
       "    uns: 'spatialdata_attrs'\n",
       "    obsm: 'spatial'"
      ]
     },
     "execution_count": 14,
     "metadata": {},
     "output_type": "execute_result"
    }
   ],
   "source": [
    "sdata[\"table\"]"
   ]
  },
  {
   "cell_type": "code",
   "execution_count": 15,
   "id": "7365347d",
   "metadata": {},
   "outputs": [],
   "source": [
    "ious_df = results_df.set_index(\"cell_id\")\n",
    "\n",
    "sdata[\"table\"].obs[\"IoU\"] = sdata[\"table\"].obs[\"cell_id\"].map(ious_df[\"IoU\"])\n",
    "sdata[\"table\"].obs[\"best_nuc_id\"] = sdata[\"table\"].obs[\"cell_id\"].map(ious_df[\"best_nuc_id\"])"
   ]
  },
  {
   "cell_type": "code",
   "execution_count": 16,
   "id": "0c9541fa",
   "metadata": {},
   "outputs": [
    {
     "data": {
      "text/plain": [
       "SpatialData object, with associated Zarr store: /g/huber/users/lazic/src/segtraq/tests/data/xenium_sp_subset.zarr\n",
       "├── Images\n",
       "│     ├── 'he_image': DataTree[cyx] (3, 448, 527), (3, 224, 264), (3, 112, 131), (3, 56, 66), (3, 28, 33)\n",
       "│     ├── 'if_image': DataTree[cyx] (3, 221, 260), (3, 111, 130), (3, 55, 65), (3, 28, 33), (3, 13, 16)\n",
       "│     ├── 'morphology_focus': DataTree[cyx] (1, 763, 899), (1, 381, 450), (1, 191, 225), (1, 95, 112), (1, 47, 56)\n",
       "│     └── 'morphology_mip': DataTree[cyx] (1, 763, 899), (1, 381, 450), (1, 191, 225), (1, 95, 112), (1, 47, 56)\n",
       "├── Labels\n",
       "│     ├── 'cell_labels': DataTree[yx] (763, 899), (381, 450), (191, 225), (95, 112), (47, 56)\n",
       "│     └── 'nucleus_labels': DataTree[yx] (763, 899), (381, 450), (191, 225), (95, 112), (47, 56)\n",
       "├── Points\n",
       "│     └── 'transcripts': DataFrame with shape: (<Delayed>, 8) (3D points)\n",
       "├── Shapes\n",
       "│     ├── 'cell_boundaries': GeoDataFrame shape: (158, 1) (2D shapes)\n",
       "│     ├── 'cell_circles': GeoDataFrame shape: (122, 2) (2D shapes)\n",
       "│     └── 'nucleus_boundaries': GeoDataFrame shape: (132, 1) (2D shapes)\n",
       "└── Tables\n",
       "      └── 'table': AnnData (122, 313)\n",
       "with coordinate systems:\n",
       "    ▸ 'global', with elements:\n",
       "        he_image (Images), if_image (Images), morphology_focus (Images), morphology_mip (Images), cell_labels (Labels), nucleus_labels (Labels), transcripts (Points), cell_boundaries (Shapes), cell_circles (Shapes), nucleus_boundaries (Shapes)"
      ]
     },
     "execution_count": 16,
     "metadata": {},
     "output_type": "execute_result"
    }
   ],
   "source": [
    "sdata"
   ]
  },
  {
   "cell_type": "code",
   "execution_count": null,
   "id": "793beef3",
   "metadata": {},
   "outputs": [
    {
     "name": "stderr",
     "output_type": "stream",
     "text": [
      "/home/lazic/miniforge3/envs/sc_analysis_sdata/lib/python3.10/site-packages/spatialdata/_core/spatialdata.py:511: UserWarning: Converting `region_key: region` to categorical dtype.\n",
      "  convert_region_column_to_categorical(table)\n"
     ]
    },
    {
     "ename": "AttributeError",
     "evalue": "'SpatialData' object has no attribute 'pl'",
     "output_type": "error",
     "traceback": [
      "\u001b[0;31m---------------------------------------------------------------------------\u001b[0m",
      "\u001b[0;31mAttributeError\u001b[0m                            Traceback (most recent call last)",
      "Cell \u001b[0;32mIn[17], line 10\u001b[0m\n\u001b[1;32m      7\u001b[0m sdata\u001b[38;5;241m.\u001b[39mset_table_annotates_spatialelement(\u001b[38;5;124m\"\u001b[39m\u001b[38;5;124mtable\u001b[39m\u001b[38;5;124m\"\u001b[39m, region\u001b[38;5;241m=\u001b[39m\u001b[38;5;124m\"\u001b[39m\u001b[38;5;124mcell_boundaries\u001b[39m\u001b[38;5;124m\"\u001b[39m)\n\u001b[1;32m      9\u001b[0m \u001b[38;5;66;03m# plot\u001b[39;00m\n\u001b[0;32m---> 10\u001b[0m \u001b[43msdata\u001b[49m\u001b[38;5;241;43m.\u001b[39;49m\u001b[43mpl\u001b[49m\u001b[38;5;241m.\u001b[39mrender_shapes(\u001b[38;5;124m\"\u001b[39m\u001b[38;5;124mnucleus_boundaries\u001b[39m\u001b[38;5;124m\"\u001b[39m)\u001b[38;5;241m.\u001b[39mpl\u001b[38;5;241m.\u001b[39mshow(\n\u001b[1;32m     11\u001b[0m     ax\u001b[38;5;241m=\u001b[39maxes[\u001b[38;5;241m0\u001b[39m], title\u001b[38;5;241m=\u001b[39m\u001b[38;5;124m\"\u001b[39m\u001b[38;5;124mNucleus boundaries\u001b[39m\u001b[38;5;124m\"\u001b[39m, coordinate_systems\u001b[38;5;241m=\u001b[39m\u001b[38;5;124m\"\u001b[39m\u001b[38;5;124mglobal\u001b[39m\u001b[38;5;124m\"\u001b[39m\n\u001b[1;32m     12\u001b[0m )\n\u001b[1;32m     14\u001b[0m sdata\u001b[38;5;241m.\u001b[39mpl\u001b[38;5;241m.\u001b[39mrender_shapes(\u001b[38;5;124m\"\u001b[39m\u001b[38;5;124mcell_boundaries\u001b[39m\u001b[38;5;124m\"\u001b[39m, color\u001b[38;5;241m=\u001b[39m\u001b[38;5;124m\"\u001b[39m\u001b[38;5;124mIoU\u001b[39m\u001b[38;5;124m\"\u001b[39m)\u001b[38;5;241m.\u001b[39mpl\u001b[38;5;241m.\u001b[39mshow(\n\u001b[1;32m     15\u001b[0m     ax\u001b[38;5;241m=\u001b[39maxes[\u001b[38;5;241m1\u001b[39m], title\u001b[38;5;241m=\u001b[39m\u001b[38;5;124m\"\u001b[39m\u001b[38;5;124mCell boundaries colored by IoU\u001b[39m\u001b[38;5;124m\"\u001b[39m, coordinate_systems\u001b[38;5;241m=\u001b[39m\u001b[38;5;124m\"\u001b[39m\u001b[38;5;124mglobal\u001b[39m\u001b[38;5;124m\"\u001b[39m\n\u001b[1;32m     16\u001b[0m )\n\u001b[1;32m     18\u001b[0m sdata\u001b[38;5;241m.\u001b[39mpl\u001b[38;5;241m.\u001b[39mrender_shapes(\n\u001b[1;32m     19\u001b[0m     element\u001b[38;5;241m=\u001b[39m\u001b[38;5;124m\"\u001b[39m\u001b[38;5;124mnucleus_boundaries\u001b[39m\u001b[38;5;124m\"\u001b[39m,\n\u001b[1;32m     20\u001b[0m     fill_alpha\u001b[38;5;241m=\u001b[39m\u001b[38;5;241m0.2\u001b[39m,\n\u001b[0;32m   (...)\u001b[0m\n\u001b[1;32m     30\u001b[0m     outline_color\u001b[38;5;241m=\u001b[39m\u001b[38;5;124m\"\u001b[39m\u001b[38;5;124mblack\u001b[39m\u001b[38;5;124m\"\u001b[39m,\n\u001b[1;32m     31\u001b[0m )\u001b[38;5;241m.\u001b[39mpl\u001b[38;5;241m.\u001b[39mshow(ax\u001b[38;5;241m=\u001b[39maxes[\u001b[38;5;241m2\u001b[39m], title\u001b[38;5;241m=\u001b[39m\u001b[38;5;124m\"\u001b[39m\u001b[38;5;124mOverlay of nuclei and cell masks colored by IoU\u001b[39m\u001b[38;5;124m\"\u001b[39m, colorbar\u001b[38;5;241m=\u001b[39m\u001b[38;5;28;01mTrue\u001b[39;00m)\n",
      "\u001b[0;31mAttributeError\u001b[0m: 'SpatialData' object has no attribute 'pl'"
     ]
    },
    {
     "data": {
      "image/png": "[encoded data removed]",
      "text/plain": [
       "<Figure size 1500x500 with 3 Axes>"
      ]
     },
     "metadata": {},
     "output_type": "display_data"
    }
   ],
   "source": [
    "import matplotlib.pyplot as plt\n",
    "\n",
    "axes = plt.subplots(1, 3, figsize=(15, 5), constrained_layout=True)[1].flatten()\n",
    "\n",
    "# link annotations with cell boundaries\n",
    "sdata.tables[\"table\"].obs[\"region\"] = \"cell_boundaries\"\n",
    "sdata.set_table_annotates_spatialelement(\"table\", region=\"cell_boundaries\")\n",
    "\n",
    "# plot\n",
    "sdata.pl.render_shapes(\"nucleus_boundaries\").pl.show(\n",
    "    ax=axes[0], title=\"Nucleus boundaries\", coordinate_systems=\"global\"\n",
    ")\n",
    "\n",
    "sdata.pl.render_shapes(\"cell_boundaries\", color=\"IoU\").pl.show(\n",
    "    ax=axes[1], title=\"Cell boundaries colored by IoU\", coordinate_systems=\"global\"\n",
    ")\n",
    "\n",
    "sdata.pl.render_shapes(\n",
    "    element=\"nucleus_boundaries\",\n",
    "    fill_alpha=0.2,\n",
    "    outline_alpha=1.0,\n",
    "    outline_color=\"black\",\n",
    ").pl.render_shapes(\n",
    "    element=\"cell_boundaries\",\n",
    "    color=\"IoU\",\n",
    "    cmap=\"viridis\",\n",
    "    fill_alpha=0.5,\n",
    "    outline_alpha=1.0,\n",
    "    outline_width=0.5,\n",
    "    outline_color=\"black\",\n",
    ").pl.show(ax=axes[2], title=\"Overlay of nuclei and cell masks colored by IoU\", colorbar=True)"
   ]
  },
  {
   "cell_type": "markdown",
   "id": "b285b349",
   "metadata": {},
   "source": [
    "In the plots above, we can see that cells that have a high overlap with nuclei, also show a high IoU value. Below, we plot a histogram of IoU values and can see that the median IoU is at 0.16, i.e. 16% overlap. "
   ]
  },
  {
   "cell_type": "code",
   "execution_count": null,
   "id": "363a295a",
   "metadata": {},
   "outputs": [
    {
     "data": {
      "image/png": "[encoded data removed]",
      "text/plain": [
       "<Figure size 600x500 with 1 Axes>"
      ]
     },
     "metadata": {},
     "output_type": "display_data"
    }
   ],
   "source": [
    "import matplotlib.pyplot as plt\n",
    "import numpy as np\n",
    "\n",
    "# Prepare IoU values\n",
    "ious = sdata[\"table\"].obs[\"IoU\"].dropna()\n",
    "median_iou = np.median(ious)\n",
    "\n",
    "# Set up figure with histogram\n",
    "fig, ax = plt.subplots(figsize=(6, 5), constrained_layout=True)\n",
    "\n",
    "# Plot histogram\n",
    "ax.hist(ious, bins=30, color=\"steelblue\", edgecolor=\"black\")\n",
    "\n",
    "# Add median line\n",
    "ax.axvline(\n",
    "    median_iou,\n",
    "    color=\"red\",\n",
    "    linestyle=\"--\",\n",
    "    linewidth=2,\n",
    "    label=f\"Median = {median_iou:.2f}\",\n",
    ")\n",
    "\n",
    "# Decorate\n",
    "ax.set_title(\"IoU Distribution with Median\")\n",
    "ax.set_xlabel(\"IoU\")\n",
    "ax.set_ylabel(\"Cell Count\")\n",
    "ax.legend()\n",
    "\n",
    "plt.show()"
   ]
  },
  {
   "cell_type": "markdown",
   "id": "a047ee84",
   "metadata": {},
   "source": [
    "## Expression correlation between cell and nucleus"
   ]
  },
  {
   "cell_type": "markdown",
   "id": "e6709daf",
   "metadata": {},
   "source": [
    "Expression correlation between a cell and the \"most-overlapping\" nucleus can be computed using `compute_cell_nuc_correlation`. This function will internally compute `IoU` using `compute_cell_nuc_ious` unless already present in the `spatialdata`object. Currently only `pearson`correlation is supported. More options will be added later. "
   ]
  },
  {
   "cell_type": "code",
   "execution_count": null,
   "id": "7e461651",
   "metadata": {},
   "outputs": [],
   "source": [
    "import time\n",
    "\n",
    "import segtraq as st"
   ]
  },
  {
   "cell_type": "code",
   "execution_count": null,
   "id": "68f872be",
   "metadata": {},
   "outputs": [
    {
     "name": "stderr",
     "output_type": "stream",
     "text": [
      "Processing IoU between cells and nuclei: 100%|██████████| 158/158 [00:00<00:00, 1978.34it/s]\n"
     ]
    },
    {
     "name": "stdout",
     "output_type": "stream",
     "text": [
      "Elapsed time without computing IoU: 1.03 seconds\n"
     ]
    }
   ],
   "source": [
    "start = time.time()\n",
    "corr_df = st.nc.compute_cell_nuc_correlation(sdata)\n",
    "end = time.time()\n",
    "\n",
    "print(f\"Elapsed time without computing IoU: {end - start:.2f} seconds\")"
   ]
  },
  {
   "cell_type": "code",
   "execution_count": null,
   "id": "61613202",
   "metadata": {},
   "outputs": [
    {
     "data": {
      "application/vnd.microsoft.datawrangler.viewer.v0+json": {
       "columns": [
        {
         "name": "index",
         "rawType": "int64",
         "type": "integer"
        },
        {
         "name": "cell_id",
         "rawType": "int64",
         "type": "integer"
        },
        {
         "name": "best_nuc_id",
         "rawType": "object",
         "type": "unknown"
        },
        {
         "name": "IoU",
         "rawType": "float64",
         "type": "float"
        },
        {
         "name": "correlation",
         "rawType": "float64",
         "type": "float"
        }
       ],
       "ref": "9d6adcb2-7ba8-449f-9c06-5b0de6a81957",
       "rows": [
        [
         "0",
         "4613",
         "4613",
         "0.0940927497585202",
         "0.27274326299432683"
        ],
        [
         "1",
         "4614",
         "4614",
         "0.20723778337963766",
         "0.8782097836807716"
        ],
        [
         "2",
         "4615",
         "4615",
         "0.17868621093941922",
         "0.7396696888320775"
        ],
        [
         "3",
         "4616",
         "4616",
         "0.2929092296440988",
         "0.7799245946588846"
        ],
        [
         "4",
         "4617",
         "4617",
         "0.16182449365317156",
         "0.910924363053227"
        ],
        [
         "5",
         "4618",
         "4618",
         "0.18049900671436703",
         "0.4213345972618084"
        ],
        [
         "6",
         "4620",
         "4620",
         "0.24869085206908934",
         "0.8472708760157125"
        ],
        [
         "7",
         "4877",
         "4877",
         "0.35265224599282213",
         "0.8698835181193042"
        ],
        [
         "8",
         "4878",
         "4878",
         "0.035857624170141135",
         "0.6068535003965672"
        ],
        [
         "9",
         "4879",
         "4879",
         "0.12667197309850936",
         "0.776706483431106"
        ],
        [
         "10",
         "4880",
         "4880",
         "0.10832224019146748",
         "0.34685745899934695"
        ],
        [
         "11",
         "4881",
         "4881",
         "0.07293293547595052",
         "0.514400106564155"
        ],
        [
         "12",
         "4882",
         "4882",
         "0.06773325534333684",
         "0.7950382084776165"
        ],
        [
         "13",
         "4883",
         "4883",
         "0.13962117345688058",
         "0.49835841191806035"
        ],
        [
         "14",
         "4884",
         "4884",
         "0.077476607225262",
         "0.7429538518448503"
        ],
        [
         "15",
         "4885",
         "4885",
         "0.14056101480239527",
         "0.8254544770047232"
        ],
        [
         "16",
         "4886",
         "4886",
         "0.1983962238544355",
         "0.5747256362246974"
        ],
        [
         "17",
         "4887",
         "4887",
         "0.17033661536398784",
         "0.898106184503207"
        ],
        [
         "18",
         "4888",
         "4888",
         "0.17309459212292563",
         "0.6823146983100752"
        ],
        [
         "19",
         "4889",
         "4889",
         "0.21940195203994556",
         "0.6877054123680895"
        ],
        [
         "20",
         "4890",
         "4890",
         "0.27752479148469217",
         "0.7712334007729797"
        ],
        [
         "21",
         "4891",
         "4891",
         "0.16463949909920078",
         "0.5387393369376805"
        ],
        [
         "22",
         "4893",
         "4893",
         "0.26757396504414677",
         "0.4704041304997728"
        ],
        [
         "23",
         "4894",
         "4894",
         "0.1584526797005706",
         "0.4311948748776281"
        ],
        [
         "24",
         "4895",
         "4895",
         "0.4397795924510339",
         "0.9335019043957034"
        ],
        [
         "25",
         "4896",
         "4896",
         "0.264083737163489",
         "0.8821321139633722"
        ],
        [
         "26",
         "4897",
         "4897",
         "0.06649742706455027",
         "0.6066990783718926"
        ],
        [
         "27",
         "4898",
         "4898",
         "0.1541156494023415",
         "0.7410319176683201"
        ],
        [
         "28",
         "6476",
         "6476",
         "0.147516558340253",
         "0.6729815274877102"
        ],
        [
         "29",
         "6477",
         "6477",
         "0.19944645776851794",
         "0.7092887015874608"
        ],
        [
         "30",
         "56072",
         "56072",
         "0.08111931004898786",
         "0.6440751332840873"
        ],
        [
         "31",
         "56073",
         "56073",
         "0.060846094389878966",
         "0.3988393993569172"
        ],
        [
         "32",
         "56074",
         "56074",
         "0.10901534372654333",
         "0.7387926906733258"
        ],
        [
         "33",
         "56075",
         "56075",
         "0.12859596815288632",
         "0.5670009025395821"
        ],
        [
         "34",
         "56076",
         "56076",
         "0.11454168965766932",
         "0.7713345874242228"
        ],
        [
         "35",
         "56077",
         "56077",
         "0.1296440179444428",
         "0.9171326563094486"
        ],
        [
         "36",
         "56078",
         "56078",
         "0.014345812098288061",
         "0.4523229533908173"
        ],
        [
         "37",
         "56079",
         "56079",
         "0.02775320491677274",
         "0.6871256351823645"
        ],
        [
         "38",
         "56080",
         "56080",
         "0.4140544142392615",
         "0.7635205670446908"
        ],
        [
         "39",
         "56081",
         "56081",
         "0.0874012989048162",
         "0.6463822440489966"
        ],
        [
         "40",
         "56082",
         "56082",
         "0.18163655236810788",
         "0.8880013599519904"
        ],
        [
         "41",
         "56083",
         "56083",
         "0.04106105890718828",
         "0.26377175726515323"
        ],
        [
         "42",
         "56084",
         "56084",
         "0.27108222413369937",
         "0.9061552339242978"
        ],
        [
         "43",
         "56085",
         "56085",
         "0.06463900742120736",
         "0.6301118031506471"
        ],
        [
         "44",
         "56086",
         "56086",
         "0.028102798076958334",
         "0.6728786101783397"
        ],
        [
         "45",
         "56087",
         "56087",
         "0.14289616981742195",
         "0.8872793856808225"
        ],
        [
         "46",
         "56088",
         "56088",
         "0.11031171465850433",
         "0.8831869891049892"
        ],
        [
         "47",
         "56089",
         "56089",
         "0.06257496647614252",
         "0.3720579296348193"
        ],
        [
         "48",
         "56090",
         "56090",
         "0.09194660436959425",
         "0.8019895705110927"
        ],
        [
         "49",
         "56091",
         "56091",
         "0.08626170720320607",
         "0.5874475626595828"
        ]
       ],
       "shape": {
        "columns": 4,
        "rows": 122
       }
      },
      "text/html": [
       "<div>\n",
       "<style scoped>\n",
       "    .dataframe tbody tr th:only-of-type {\n",
       "        vertical-align: middle;\n",
       "    }\n",
       "\n",
       "    .dataframe tbody tr th {\n",
       "        vertical-align: top;\n",
       "    }\n",
       "\n",
       "    .dataframe thead th {\n",
       "        text-align: right;\n",
       "    }\n",
       "</style>\n",
       "<table border=\"1\" class=\"dataframe\">\n",
       "  <thead>\n",
       "    <tr style=\"text-align: right;\">\n",
       "      <th></th>\n",
       "      <th>cell_id</th>\n",
       "      <th>best_nuc_id</th>\n",
       "      <th>IoU</th>\n",
       "      <th>correlation</th>\n",
       "    </tr>\n",
       "  </thead>\n",
       "  <tbody>\n",
       "    <tr>\n",
       "      <th>0</th>\n",
       "      <td>4613</td>\n",
       "      <td>4613</td>\n",
       "      <td>0.094093</td>\n",
       "      <td>0.272743</td>\n",
       "    </tr>\n",
       "    <tr>\n",
       "      <th>1</th>\n",
       "      <td>4614</td>\n",
       "      <td>4614</td>\n",
       "      <td>0.207238</td>\n",
       "      <td>0.878210</td>\n",
       "    </tr>\n",
       "    <tr>\n",
       "      <th>2</th>\n",
       "      <td>4615</td>\n",
       "      <td>4615</td>\n",
       "      <td>0.178686</td>\n",
       "      <td>0.739670</td>\n",
       "    </tr>\n",
       "    <tr>\n",
       "      <th>3</th>\n",
       "      <td>4616</td>\n",
       "      <td>4616</td>\n",
       "      <td>0.292909</td>\n",
       "      <td>0.779925</td>\n",
       "    </tr>\n",
       "    <tr>\n",
       "      <th>4</th>\n",
       "      <td>4617</td>\n",
       "      <td>4617</td>\n",
       "      <td>0.161824</td>\n",
       "      <td>0.910924</td>\n",
       "    </tr>\n",
       "    <tr>\n",
       "      <th>...</th>\n",
       "      <td>...</td>\n",
       "      <td>...</td>\n",
       "      <td>...</td>\n",
       "      <td>...</td>\n",
       "    </tr>\n",
       "    <tr>\n",
       "      <th>117</th>\n",
       "      <td>80759</td>\n",
       "      <td>80759</td>\n",
       "      <td>0.160499</td>\n",
       "      <td>0.812877</td>\n",
       "    </tr>\n",
       "    <tr>\n",
       "      <th>118</th>\n",
       "      <td>80760</td>\n",
       "      <td>80760</td>\n",
       "      <td>0.128202</td>\n",
       "      <td>0.914975</td>\n",
       "    </tr>\n",
       "    <tr>\n",
       "      <th>119</th>\n",
       "      <td>80761</td>\n",
       "      <td>80761</td>\n",
       "      <td>0.288906</td>\n",
       "      <td>0.913159</td>\n",
       "    </tr>\n",
       "    <tr>\n",
       "      <th>120</th>\n",
       "      <td>80762</td>\n",
       "      <td>80762</td>\n",
       "      <td>0.180239</td>\n",
       "      <td>0.913756</td>\n",
       "    </tr>\n",
       "    <tr>\n",
       "      <th>121</th>\n",
       "      <td>80763</td>\n",
       "      <td>80763</td>\n",
       "      <td>0.269007</td>\n",
       "      <td>0.733573</td>\n",
       "    </tr>\n",
       "  </tbody>\n",
       "</table>\n",
       "<p>122 rows × 4 columns</p>\n",
       "</div>"
      ],
      "text/plain": [
       "     cell_id best_nuc_id       IoU  correlation\n",
       "0       4613        4613  0.094093     0.272743\n",
       "1       4614        4614  0.207238     0.878210\n",
       "2       4615        4615  0.178686     0.739670\n",
       "3       4616        4616  0.292909     0.779925\n",
       "4       4617        4617  0.161824     0.910924\n",
       "..       ...         ...       ...          ...\n",
       "117    80759       80759  0.160499     0.812877\n",
       "118    80760       80760  0.128202     0.914975\n",
       "119    80761       80761  0.288906     0.913159\n",
       "120    80762       80762  0.180239     0.913756\n",
       "121    80763       80763  0.269007     0.733573\n",
       "\n",
       "[122 rows x 4 columns]"
      ]
     },
     "execution_count": 27,
     "metadata": {},
     "output_type": "execute_result"
    }
   ],
   "source": [
    "corr_df"
   ]
  },
  {
   "cell_type": "markdown",
   "id": "9f3764a4",
   "metadata": {},
   "source": [
    "We will store the results in the `.obs` of the `Table` within the `sdata` object for plotting."
   ]
  },
  {
   "cell_type": "code",
   "execution_count": null,
   "id": "cd58cad8",
   "metadata": {},
   "outputs": [],
   "source": [
    "corr_df = corr_df.set_index(\"cell_id\")\n",
    "\n",
    "sdata[\"table\"].obs[\"pearson_corr\"] = sdata[\"table\"].obs[\"cell_id\"].map(corr_df[\"correlation\"])"
   ]
  },
  {
   "cell_type": "markdown",
   "id": "96b85a08",
   "metadata": {},
   "source": [
    "We plot Pearson correlation versus IoU and observe a positive trend: cells with greater overlap with nuclei tend to exhibit higher expression correlation."
   ]
  },
  {
   "cell_type": "code",
   "execution_count": null,
   "id": "bb0688ef",
   "metadata": {},
   "outputs": [
    {
     "data": {
      "image/png": "[encoded data removed]",
      "text/plain": [
       "<Figure size 600x600 with 1 Axes>"
      ]
     },
     "metadata": {},
     "output_type": "display_data"
    }
   ],
   "source": [
    "import seaborn as sns\n",
    "\n",
    "# Prepare obs DataFrame as before\n",
    "obs = sdata[\"table\"].obs\n",
    "\n",
    "plt.figure(figsize=(6, 6))\n",
    "sns.regplot(\n",
    "    data=obs,\n",
    "    x=\"IoU\",\n",
    "    y=\"pearson_corr\",\n",
    "    scatter_kws={\"alpha\": 0.6},\n",
    "    line_kws={\"color\": \"red\"},\n",
    "    ci=95,\n",
    ")\n",
    "plt.xlabel(\"IoU\")\n",
    "plt.ylabel(\"Pearson correlation\")\n",
    "plt.title(\"Correlation vs. IoU with Regression Line\")\n",
    "plt.grid(True)\n",
    "plt.show()"
   ]
  },
  {
   "cell_type": "markdown",
   "id": "2cd17e97",
   "metadata": {},
   "source": [
    "The histogram below shows the distribution of Pearson correlation values across cells. It is right-skewed, with a median of 0.74. This provides intuition about possible spatial spillover: cells may be contaminated by neighboring cells, assuming that nuclei capture expression with less contamination due to their smaller radius."
   ]
  },
  {
   "cell_type": "code",
   "execution_count": null,
   "id": "02e0f001",
   "metadata": {},
   "outputs": [
    {
     "data": {
      "image/png": "[encoded data removed]",
      "text/plain": [
       "<Figure size 600x500 with 1 Axes>"
      ]
     },
     "metadata": {},
     "output_type": "display_data"
    }
   ],
   "source": [
    "# Prepare IoU values\n",
    "corr = obs[\"pearson_corr\"]\n",
    "median_corr = np.median(corr)\n",
    "\n",
    "# Set up figure with histogram\n",
    "fig, ax = plt.subplots(figsize=(6, 5), constrained_layout=True)\n",
    "\n",
    "# Plot histogram\n",
    "ax.hist(corr, bins=30, color=\"steelblue\", edgecolor=\"black\")\n",
    "\n",
    "# Add median line\n",
    "ax.axvline(\n",
    "    median_corr,\n",
    "    color=\"red\",\n",
    "    linestyle=\"--\",\n",
    "    linewidth=2,\n",
    "    label=f\"Median = {median_corr:.2f}\",\n",
    ")\n",
    "\n",
    "# Decorate\n",
    "ax.set_title(\"Pearson correlation between cell and nucleus expression\")\n",
    "ax.set_xlabel(\"Pearson Correlation\")\n",
    "ax.set_ylabel(\"Cell Count\")\n",
    "ax.legend()\n",
    "\n",
    "plt.show()"
   ]
  },
  {
   "cell_type": "markdown",
   "id": "efa25f2e",
   "metadata": {},
   "source": [
    "The spatial plot below overlays nucleus boundaries, cell masks colored by Pearson correlation, and transcripts. Cells whose transcripts are distributed across the nucleus region tend to have higher correlation with the nucleus, while cells whose transcripts are localized outside the nuclear region—potentially due to spillover from neighboring cells—tend to exhibit lower correlation."
   ]
  },
  {
   "cell_type": "code",
   "execution_count": null,
   "id": "6a514d14",
   "metadata": {},
   "outputs": [
    {
     "name": "stderr",
     "output_type": "stream",
     "text": [
      "/home/lazic/miniforge3/envs/sc_analysis_sdata/lib/python3.10/site-packages/spatialdata/_core/spatialdata.py:511: UserWarning: Converting `region_key: region` to categorical dtype.\n",
      "  convert_region_column_to_categorical(table)\n",
      "/home/lazic/miniforge3/envs/sc_analysis_sdata/lib/python3.10/site-packages/anndata/_core/aligned_df.py:68: ImplicitModificationWarning: Transforming to str index.\n",
      "  warnings.warn(\"Transforming to str index.\", ImplicitModificationWarning)\n",
      "/home/lazic/miniforge3/envs/sc_analysis_sdata/lib/python3.10/site-packages/anndata/_core/aligned_df.py:68: ImplicitModificationWarning: Transforming to str index.\n",
      "  warnings.warn(\"Transforming to str index.\", ImplicitModificationWarning)\n",
      "/home/lazic/miniforge3/envs/sc_analysis_sdata/lib/python3.10/site-packages/spatialdata/_core/_elements.py:105: UserWarning: Key `cell_boundaries` already exists. Overwriting it in-memory.\n",
      "  self._check_key(key, self.keys(), self._shared_keys)\n",
      "/home/lazic/miniforge3/envs/sc_analysis_sdata/lib/python3.10/site-packages/spatialdata/_core/_elements.py:125: UserWarning: Key `table` already exists. Overwriting it in-memory.\n",
      "  self._check_key(key, self.keys(), self._shared_keys)\n"
     ]
    },
    {
     "name": "stdout",
     "output_type": "stream",
     "text": [
      "\u001b[34mINFO    \u001b[0m input has more than \u001b[1;36m103\u001b[0m categories. Uniform \u001b[32m'grey'\u001b[0m color will be used for all categories.                 \n"
     ]
    },
    {
     "name": "stderr",
     "output_type": "stream",
     "text": [
      "/home/lazic/miniforge3/envs/sc_analysis_sdata/lib/python3.10/site-packages/anndata/_core/anndata.py:381: FutureWarning: The dtype argument is deprecated and will be removed in late 2024.\n",
      "  warnings.warn(\n",
      "/home/lazic/miniforge3/envs/sc_analysis_sdata/lib/python3.10/site-packages/anndata/_core/aligned_df.py:68: ImplicitModificationWarning: Transforming to str index.\n",
      "  warnings.warn(\"Transforming to str index.\", ImplicitModificationWarning)\n",
      "/home/lazic/miniforge3/envs/sc_analysis_sdata/lib/python3.10/site-packages/spatialdata/_core/_elements.py:115: UserWarning: Key `transcripts` already exists. Overwriting it in-memory.\n",
      "  self._check_key(key, self.keys(), self._shared_keys)\n",
      "/home/lazic/miniforge3/envs/sc_analysis_sdata/lib/python3.10/site-packages/spatialdata_plot/pl/utils.py:775: FutureWarning: The default value of 'ignore' for the `na_action` parameter in pandas.Categorical.map is deprecated and will be changed to 'None' in a future version. Please set na_action to the desired value to avoid seeing this warning\n",
      "  color_vector = color_source_vector.map(color_mapping)\n",
      "/home/lazic/miniforge3/envs/sc_analysis_sdata/lib/python3.10/site-packages/spatialdata_plot/pl/render.py:682: UserWarning: No data for colormapping provided via 'c'. Parameters 'cmap', 'norm' will be ignored\n",
      "  _cax = ax.scatter(\n",
      "/home/lazic/miniforge3/envs/sc_analysis_sdata/lib/python3.10/site-packages/anndata/_core/aligned_df.py:68: ImplicitModificationWarning: Transforming to str index.\n",
      "  warnings.warn(\"Transforming to str index.\", ImplicitModificationWarning)\n",
      "/home/lazic/miniforge3/envs/sc_analysis_sdata/lib/python3.10/site-packages/anndata/_core/aligned_df.py:68: ImplicitModificationWarning: Transforming to str index.\n",
      "  warnings.warn(\"Transforming to str index.\", ImplicitModificationWarning)\n",
      "/home/lazic/miniforge3/envs/sc_analysis_sdata/lib/python3.10/site-packages/spatialdata/_core/_elements.py:105: UserWarning: Key `cell_boundaries` already exists. Overwriting it in-memory.\n",
      "  self._check_key(key, self.keys(), self._shared_keys)\n",
      "/home/lazic/miniforge3/envs/sc_analysis_sdata/lib/python3.10/site-packages/spatialdata/_core/_elements.py:125: UserWarning: Key `table` already exists. Overwriting it in-memory.\n",
      "  self._check_key(key, self.keys(), self._shared_keys)\n"
     ]
    },
    {
     "data": {
      "image/png": "[encoded data removed]",
      "text/plain": [
       "<Figure size 1000x500 with 4 Axes>"
      ]
     },
     "metadata": {},
     "output_type": "display_data"
    }
   ],
   "source": [
    "# link annotations with cell boundaries\n",
    "sdata.tables[\"table\"].obs[\"region\"] = \"cell_boundaries\"\n",
    "sdata.set_table_annotates_spatialelement(\"table\", region=\"cell_boundaries\")\n",
    "\n",
    "axes = plt.subplots(1, 2, figsize=(10, 5), constrained_layout=True)[1].flatten()\n",
    "\n",
    "sdata.pl.render_shapes(\n",
    "    element=\"nucleus_boundaries\",\n",
    "    fill_alpha=0.2,\n",
    "    outline_alpha=1.0,\n",
    "    outline_color=\"black\",\n",
    ").pl.render_shapes(\n",
    "    element=\"cell_boundaries\",\n",
    "    color=\"pearson_corr\",\n",
    "    cmap=\"viridis\",\n",
    "    fill_alpha=0.5,\n",
    "    outline_alpha=1.0,\n",
    "    outline_width=0.5,\n",
    "    outline_color=\"black\",\n",
    ").pl.render_points(\n",
    "    \"transcripts\",\n",
    "    color=\"feature_name\",\n",
    "    groups=\"MMP2\",\n",
    "    palette=\"red\",\n",
    ").pl.show(\n",
    "    ax=axes[0],\n",
    "    title=\"Overlay of nuclei and cell masks colored by pearson correlation\",\n",
    "    colorbar=True,\n",
    "    figsize=(6, 6),\n",
    ")\n",
    "\n",
    "\n",
    "sdata.pl.render_shapes(\n",
    "    element=\"nucleus_boundaries\",\n",
    "    fill_alpha=0.2,\n",
    "    outline_alpha=1.0,\n",
    "    outline_color=\"black\",\n",
    ").pl.render_shapes(\n",
    "    element=\"cell_boundaries\",\n",
    "    color=\"IoU\",\n",
    "    cmap=\"viridis\",\n",
    "    fill_alpha=0.5,\n",
    "    outline_alpha=1.0,\n",
    "    outline_width=0.5,\n",
    "    outline_color=\"black\",\n",
    ").pl.show(\n",
    "    ax=axes[1],\n",
    "    title=\"Overlay of nuclei and cell masks colored by IoU\",\n",
    "    colorbar=True,\n",
    "    figsize=(6, 6),\n",
    ")"
   ]
  },
  {
   "cell_type": "code",
   "execution_count": null,
   "id": "4e3a7f6e",
   "metadata": {},
   "outputs": [],
   "source": []
  }
 ],
 "metadata": {
  "kernelspec": {
   "display_name": "sc_analysis_sdata",
   "language": "python",
   "name": "python3"
  },
  "language_info": {
   "codemirror_mode": {
    "name": "ipython",
    "version": 3
   },
   "file_extension": ".py",
   "mimetype": "text/x-python",
   "name": "python",
   "nbconvert_exporter": "python",
   "pygments_lexer": "ipython3",
   "version": "3.10.18"
  }
 },
 "nbformat": 4,
 "nbformat_minor": 5
}
